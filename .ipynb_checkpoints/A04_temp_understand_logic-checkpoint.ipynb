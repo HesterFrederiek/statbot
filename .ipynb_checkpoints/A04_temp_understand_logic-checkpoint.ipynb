{
 "cells": [
  {
   "cell_type": "markdown",
   "metadata": {
    "id": "CkN-dHDye2i7"
   },
   "source": [
    "# 04 Temp understand logic"
   ]
  },
  {
   "cell_type": "code",
   "execution_count": 1,
   "metadata": {
    "colab": {
     "base_uri": "https://localhost:8080/"
    },
    "executionInfo": {
     "elapsed": 28743,
     "status": "ok",
     "timestamp": 1616076317392,
     "user": {
      "displayName": "Manuela Paganini",
      "photoUrl": "",
      "userId": "16245217794239939786"
     },
     "user_tz": -60
    },
    "id": "H7duBmlBe4r4",
    "outputId": "dd7deeee-f8b9-4a4f-9486-e3eec45ef3b6"
   },
   "outputs": [
    {
     "name": "stdout",
     "output_type": "stream",
     "text": [
      "Mounted at /content/drive\n"
     ]
    }
   ],
   "source": [
    "# set up connection to your google drive\n",
    "# please click on the link generated and enter the authorisation code\n",
    "\n",
    "from google.colab import drive\n",
    "drive.mount('/content/drive')"
   ]
  },
  {
   "cell_type": "code",
   "execution_count": 2,
   "metadata": {
    "colab": {
     "base_uri": "https://localhost:8080/"
    },
    "executionInfo": {
     "elapsed": 1432,
     "status": "ok",
     "timestamp": 1616076318853,
     "user": {
      "displayName": "Manuela Paganini",
      "photoUrl": "",
      "userId": "16245217794239939786"
     },
     "user_tz": -60
    },
    "id": "3cAfM1XCe4eR",
    "outputId": "29bdc25d-3ffe-4578-d4c9-c23360915362"
   },
   "outputs": [
    {
     "name": "stdout",
     "output_type": "stream",
     "text": [
      "/content/drive/MyDrive/Colab/statbot\n"
     ]
    }
   ],
   "source": [
    "cd /content/drive/MyDrive/Colab/statbot"
   ]
  },
  {
   "cell_type": "code",
   "execution_count": 3,
   "metadata": {
    "colab": {
     "base_uri": "https://localhost:8080/"
    },
    "executionInfo": {
     "elapsed": 5888,
     "status": "ok",
     "timestamp": 1616076323316,
     "user": {
      "displayName": "Manuela Paganini",
      "photoUrl": "",
      "userId": "16245217794239939786"
     },
     "user_tz": -60
    },
    "id": "dEOhmCgme4VO",
    "outputId": "67368e70-3831-4dd6-d87d-0f33ea3ff761"
   },
   "outputs": [
    {
     "name": "stdout",
     "output_type": "stream",
     "text": [
      "Collecting rank-bm25\n",
      "  Downloading https://files.pythonhosted.org/packages/16/5a/23ed3132063a0684ea66fb410260c71c4ffda3b99f8f1c021d1e245401b5/rank_bm25-0.2.1-py3-none-any.whl\n",
      "Requirement already satisfied: numpy in /usr/local/lib/python3.7/dist-packages (from rank-bm25) (1.19.5)\n",
      "Installing collected packages: rank-bm25\n",
      "Successfully installed rank-bm25-0.2.1\n"
     ]
    }
   ],
   "source": [
    "! pip install rank-bm25"
   ]
  },
  {
   "cell_type": "code",
   "execution_count": 4,
   "metadata": {
    "colab": {
     "base_uri": "https://localhost:8080/"
    },
    "executionInfo": {
     "elapsed": 29280,
     "status": "ok",
     "timestamp": 1616076351367,
     "user": {
      "displayName": "Manuela Paganini",
      "photoUrl": "",
      "userId": "16245217794239939786"
     },
     "user_tz": -60
    },
    "id": "kJ78kb3mmh-2",
    "outputId": "53781369-5e4c-4ae4-8f32-c8c3ac763f08"
   },
   "outputs": [
    {
     "name": "stdout",
     "output_type": "stream",
     "text": [
      "Collecting spacy\n",
      "\u001b[?25l  Downloading https://files.pythonhosted.org/packages/3a/70/a0b8bd0cb54d8739ba4d6fb3458785c3b9b812b7fbe93b0f10beb1a53ada/spacy-3.0.5-cp37-cp37m-manylinux2014_x86_64.whl (12.8MB)\n",
      "\u001b[K     |████████████████████████████████| 12.8MB 327kB/s \n",
      "\u001b[?25hRequirement already satisfied, skipping upgrade: requests<3.0.0,>=2.13.0 in /usr/local/lib/python3.7/dist-packages (from spacy) (2.23.0)\n",
      "Requirement already satisfied, skipping upgrade: numpy>=1.15.0 in /usr/local/lib/python3.7/dist-packages (from spacy) (1.19.5)\n",
      "Collecting catalogue<2.1.0,>=2.0.1\n",
      "  Downloading https://files.pythonhosted.org/packages/48/5c/493a2f3bb0eac17b1d48129ecfd251f0520b6c89493e9fd0522f534a9e4a/catalogue-2.0.1-py3-none-any.whl\n",
      "Collecting spacy-legacy<3.1.0,>=3.0.0\n",
      "  Downloading https://files.pythonhosted.org/packages/65/d5/6c58fc97f3098775e46d8202bf248752e626a8096a0ae9d76aa7c485a09c/spacy_legacy-3.0.1-py2.py3-none-any.whl\n",
      "Collecting pathy>=0.3.5\n",
      "  Downloading https://files.pythonhosted.org/packages/a2/53/97dc0197cca9357369b3b71bf300896cf2d3604fa60ffaaf5cbc277de7de/pathy-0.4.0-py3-none-any.whl\n",
      "Collecting pydantic<1.8.0,>=1.7.1\n",
      "\u001b[?25l  Downloading https://files.pythonhosted.org/packages/b3/0a/52ae1c659fc08f13dd7c0ae07b88e4f807ad83fb9954a59b0b0a3d1a8ab6/pydantic-1.7.3-cp37-cp37m-manylinux2014_x86_64.whl (9.1MB)\n",
      "\u001b[K     |████████████████████████████████| 9.1MB 43.7MB/s \n",
      "\u001b[?25hRequirement already satisfied, skipping upgrade: packaging>=20.0 in /usr/local/lib/python3.7/dist-packages (from spacy) (20.9)\n",
      "Requirement already satisfied, skipping upgrade: tqdm<5.0.0,>=4.38.0 in /usr/local/lib/python3.7/dist-packages (from spacy) (4.41.1)\n",
      "Requirement already satisfied, skipping upgrade: preshed<3.1.0,>=3.0.2 in /usr/local/lib/python3.7/dist-packages (from spacy) (3.0.5)\n",
      "Collecting srsly<3.0.0,>=2.4.0\n",
      "\u001b[?25l  Downloading https://files.pythonhosted.org/packages/19/54/76982427ceb495dd19ff982c966708c624b85e03c45bf1912feaf60c7b2d/srsly-2.4.0-cp37-cp37m-manylinux2014_x86_64.whl (456kB)\n",
      "\u001b[K     |████████████████████████████████| 460kB 51.1MB/s \n",
      "\u001b[?25hRequirement already satisfied, skipping upgrade: blis<0.8.0,>=0.4.0 in /usr/local/lib/python3.7/dist-packages (from spacy) (0.4.1)\n",
      "Requirement already satisfied, skipping upgrade: cymem<2.1.0,>=2.0.2 in /usr/local/lib/python3.7/dist-packages (from spacy) (2.0.5)\n",
      "Collecting typer<0.4.0,>=0.3.0\n",
      "  Downloading https://files.pythonhosted.org/packages/90/34/d138832f6945432c638f32137e6c79a3b682f06a63c488dcfaca6b166c64/typer-0.3.2-py3-none-any.whl\n",
      "Requirement already satisfied, skipping upgrade: wasabi<1.1.0,>=0.8.1 in /usr/local/lib/python3.7/dist-packages (from spacy) (0.8.2)\n",
      "Requirement already satisfied, skipping upgrade: typing-extensions<4.0.0.0,>=3.7.4; python_version < \"3.8\" in /usr/local/lib/python3.7/dist-packages (from spacy) (3.7.4.3)\n",
      "Requirement already satisfied, skipping upgrade: murmurhash<1.1.0,>=0.28.0 in /usr/local/lib/python3.7/dist-packages (from spacy) (1.0.5)\n",
      "Requirement already satisfied, skipping upgrade: jinja2 in /usr/local/lib/python3.7/dist-packages (from spacy) (2.11.3)\n",
      "Collecting thinc<8.1.0,>=8.0.2\n",
      "\u001b[?25l  Downloading https://files.pythonhosted.org/packages/e3/08/20e707519bcded1a0caa6fd024b767ac79e4e5d0fb92266bb7dcf735e338/thinc-8.0.2-cp37-cp37m-manylinux2014_x86_64.whl (1.1MB)\n",
      "\u001b[K     |████████████████████████████████| 1.1MB 43.7MB/s \n",
      "\u001b[?25hRequirement already satisfied, skipping upgrade: importlib-metadata>=0.20; python_version < \"3.8\" in /usr/local/lib/python3.7/dist-packages (from spacy) (3.7.2)\n",
      "Requirement already satisfied, skipping upgrade: setuptools in /usr/local/lib/python3.7/dist-packages (from spacy) (54.0.0)\n",
      "Requirement already satisfied, skipping upgrade: idna<3,>=2.5 in /usr/local/lib/python3.7/dist-packages (from requests<3.0.0,>=2.13.0->spacy) (2.10)\n",
      "Requirement already satisfied, skipping upgrade: urllib3!=1.25.0,!=1.25.1,<1.26,>=1.21.1 in /usr/local/lib/python3.7/dist-packages (from requests<3.0.0,>=2.13.0->spacy) (1.24.3)\n",
      "Requirement already satisfied, skipping upgrade: certifi>=2017.4.17 in /usr/local/lib/python3.7/dist-packages (from requests<3.0.0,>=2.13.0->spacy) (2020.12.5)\n",
      "Requirement already satisfied, skipping upgrade: chardet<4,>=3.0.2 in /usr/local/lib/python3.7/dist-packages (from requests<3.0.0,>=2.13.0->spacy) (3.0.4)\n",
      "Collecting smart-open<4.0.0,>=2.2.0\n",
      "\u001b[?25l  Downloading https://files.pythonhosted.org/packages/11/9a/ba2d5f67f25e8d5bbf2fcec7a99b1e38428e83cb715f64dd179ca43a11bb/smart_open-3.0.0.tar.gz (113kB)\n",
      "\u001b[K     |████████████████████████████████| 122kB 26.2MB/s \n",
      "\u001b[?25hRequirement already satisfied, skipping upgrade: pyparsing>=2.0.2 in /usr/local/lib/python3.7/dist-packages (from packaging>=20.0->spacy) (2.4.7)\n",
      "Requirement already satisfied, skipping upgrade: click<7.2.0,>=7.1.1 in /usr/local/lib/python3.7/dist-packages (from typer<0.4.0,>=0.3.0->spacy) (7.1.2)\n",
      "Requirement already satisfied, skipping upgrade: MarkupSafe>=0.23 in /usr/local/lib/python3.7/dist-packages (from jinja2->spacy) (1.1.1)\n",
      "Requirement already satisfied, skipping upgrade: zipp>=0.5 in /usr/local/lib/python3.7/dist-packages (from importlib-metadata>=0.20; python_version < \"3.8\"->spacy) (3.4.1)\n",
      "Building wheels for collected packages: smart-open\n",
      "  Building wheel for smart-open (setup.py) ... \u001b[?25l\u001b[?25hdone\n",
      "  Created wheel for smart-open: filename=smart_open-3.0.0-cp37-none-any.whl size=107098 sha256=af7e3639d334f2c0698dab84424b0053880472eb6116305c71f960b0ba441187\n",
      "  Stored in directory: /root/.cache/pip/wheels/18/88/7c/f06dabd5e9cabe02d2269167bcacbbf9b47d0c0ff7d6ebcb78\n",
      "Successfully built smart-open\n",
      "Installing collected packages: catalogue, spacy-legacy, typer, smart-open, pathy, pydantic, srsly, thinc, spacy\n",
      "  Found existing installation: catalogue 1.0.0\n",
      "    Uninstalling catalogue-1.0.0:\n",
      "      Successfully uninstalled catalogue-1.0.0\n",
      "  Found existing installation: smart-open 4.2.0\n",
      "    Uninstalling smart-open-4.2.0:\n",
      "      Successfully uninstalled smart-open-4.2.0\n",
      "  Found existing installation: srsly 1.0.5\n",
      "    Uninstalling srsly-1.0.5:\n",
      "      Successfully uninstalled srsly-1.0.5\n",
      "  Found existing installation: thinc 7.4.0\n",
      "    Uninstalling thinc-7.4.0:\n",
      "      Successfully uninstalled thinc-7.4.0\n",
      "  Found existing installation: spacy 2.2.4\n",
      "    Uninstalling spacy-2.2.4:\n",
      "      Successfully uninstalled spacy-2.2.4\n",
      "Successfully installed catalogue-2.0.1 pathy-0.4.0 pydantic-1.7.3 smart-open-3.0.0 spacy-3.0.5 spacy-legacy-3.0.1 srsly-2.4.0 thinc-8.0.2 typer-0.3.2\n",
      "2021-03-18 14:05:47.092900: I tensorflow/stream_executor/platform/default/dso_loader.cc:49] Successfully opened dynamic library libcudart.so.11.0\n",
      "\u001b[1m\n",
      "============================== Info about spaCy ==============================\u001b[0m\n",
      "\n",
      "spaCy version    3.0.5                         \n",
      "Location         /usr/local/lib/python3.7/dist-packages/spacy\n",
      "Platform         Linux-4.19.112+-x86_64-with-Ubuntu-18.04-bionic\n",
      "Python version   3.7.10                        \n",
      "Pipelines                                      \n",
      "\n"
     ]
    }
   ],
   "source": [
    " # update spacy \n",
    "! pip install -U spacy\n",
    "! python -m spacy info"
   ]
  },
  {
   "cell_type": "code",
   "execution_count": 8,
   "metadata": {
    "colab": {
     "base_uri": "https://localhost:8080/"
    },
    "executionInfo": {
     "elapsed": 56764,
     "status": "ok",
     "timestamp": 1616076446100,
     "user": {
      "displayName": "Manuela Paganini",
      "photoUrl": "",
      "userId": "16245217794239939786"
     },
     "user_tz": -60
    },
    "id": "vP1meQ6ZmhwO",
    "outputId": "02ae19f1-70a3-476f-d982-368db11d569b"
   },
   "outputs": [
    {
     "name": "stdout",
     "output_type": "stream",
     "text": [
      "2021-03-18 14:06:31.132414: I tensorflow/stream_executor/platform/default/dso_loader.cc:49] Successfully opened dynamic library libcudart.so.11.0\n",
      "Collecting de-core-news-lg==3.0.0\n",
      "\u001b[?25l  Downloading https://github.com/explosion/spacy-models/releases/download/de_core_news_lg-3.0.0/de_core_news_lg-3.0.0-py3-none-any.whl (573.0MB)\n",
      "\u001b[K     |████████████████████████████████| 573.0MB 15kB/s \n",
      "\u001b[?25hRequirement already satisfied: spacy<3.1.0,>=3.0.0 in /usr/local/lib/python3.7/dist-packages (from de-core-news-lg==3.0.0) (3.0.5)\n",
      "Requirement already satisfied: typer<0.4.0,>=0.3.0 in /usr/local/lib/python3.7/dist-packages (from spacy<3.1.0,>=3.0.0->de-core-news-lg==3.0.0) (0.3.2)\n",
      "Requirement already satisfied: importlib-metadata>=0.20; python_version < \"3.8\" in /usr/local/lib/python3.7/dist-packages (from spacy<3.1.0,>=3.0.0->de-core-news-lg==3.0.0) (3.7.2)\n",
      "Requirement already satisfied: spacy-legacy<3.1.0,>=3.0.0 in /usr/local/lib/python3.7/dist-packages (from spacy<3.1.0,>=3.0.0->de-core-news-lg==3.0.0) (3.0.1)\n",
      "Requirement already satisfied: pydantic<1.8.0,>=1.7.1 in /usr/local/lib/python3.7/dist-packages (from spacy<3.1.0,>=3.0.0->de-core-news-lg==3.0.0) (1.7.3)\n",
      "Requirement already satisfied: thinc<8.1.0,>=8.0.2 in /usr/local/lib/python3.7/dist-packages (from spacy<3.1.0,>=3.0.0->de-core-news-lg==3.0.0) (8.0.2)\n",
      "Requirement already satisfied: cymem<2.1.0,>=2.0.2 in /usr/local/lib/python3.7/dist-packages (from spacy<3.1.0,>=3.0.0->de-core-news-lg==3.0.0) (2.0.5)\n",
      "Requirement already satisfied: pathy>=0.3.5 in /usr/local/lib/python3.7/dist-packages (from spacy<3.1.0,>=3.0.0->de-core-news-lg==3.0.0) (0.4.0)\n",
      "Requirement already satisfied: numpy>=1.15.0 in /usr/local/lib/python3.7/dist-packages (from spacy<3.1.0,>=3.0.0->de-core-news-lg==3.0.0) (1.19.5)\n",
      "Requirement already satisfied: murmurhash<1.1.0,>=0.28.0 in /usr/local/lib/python3.7/dist-packages (from spacy<3.1.0,>=3.0.0->de-core-news-lg==3.0.0) (1.0.5)\n",
      "Requirement already satisfied: tqdm<5.0.0,>=4.38.0 in /usr/local/lib/python3.7/dist-packages (from spacy<3.1.0,>=3.0.0->de-core-news-lg==3.0.0) (4.41.1)\n",
      "Requirement already satisfied: blis<0.8.0,>=0.4.0 in /usr/local/lib/python3.7/dist-packages (from spacy<3.1.0,>=3.0.0->de-core-news-lg==3.0.0) (0.4.1)\n",
      "Requirement already satisfied: jinja2 in /usr/local/lib/python3.7/dist-packages (from spacy<3.1.0,>=3.0.0->de-core-news-lg==3.0.0) (2.11.3)\n",
      "Requirement already satisfied: catalogue<2.1.0,>=2.0.1 in /usr/local/lib/python3.7/dist-packages (from spacy<3.1.0,>=3.0.0->de-core-news-lg==3.0.0) (2.0.1)\n",
      "Requirement already satisfied: srsly<3.0.0,>=2.4.0 in /usr/local/lib/python3.7/dist-packages (from spacy<3.1.0,>=3.0.0->de-core-news-lg==3.0.0) (2.4.0)\n",
      "Requirement already satisfied: typing-extensions<4.0.0.0,>=3.7.4; python_version < \"3.8\" in /usr/local/lib/python3.7/dist-packages (from spacy<3.1.0,>=3.0.0->de-core-news-lg==3.0.0) (3.7.4.3)\n",
      "Requirement already satisfied: wasabi<1.1.0,>=0.8.1 in /usr/local/lib/python3.7/dist-packages (from spacy<3.1.0,>=3.0.0->de-core-news-lg==3.0.0) (0.8.2)\n",
      "Requirement already satisfied: preshed<3.1.0,>=3.0.2 in /usr/local/lib/python3.7/dist-packages (from spacy<3.1.0,>=3.0.0->de-core-news-lg==3.0.0) (3.0.5)\n",
      "Requirement already satisfied: requests<3.0.0,>=2.13.0 in /usr/local/lib/python3.7/dist-packages (from spacy<3.1.0,>=3.0.0->de-core-news-lg==3.0.0) (2.23.0)\n",
      "Requirement already satisfied: setuptools in /usr/local/lib/python3.7/dist-packages (from spacy<3.1.0,>=3.0.0->de-core-news-lg==3.0.0) (54.0.0)\n",
      "Requirement already satisfied: packaging>=20.0 in /usr/local/lib/python3.7/dist-packages (from spacy<3.1.0,>=3.0.0->de-core-news-lg==3.0.0) (20.9)\n",
      "Requirement already satisfied: click<7.2.0,>=7.1.1 in /usr/local/lib/python3.7/dist-packages (from typer<0.4.0,>=0.3.0->spacy<3.1.0,>=3.0.0->de-core-news-lg==3.0.0) (7.1.2)\n",
      "Requirement already satisfied: zipp>=0.5 in /usr/local/lib/python3.7/dist-packages (from importlib-metadata>=0.20; python_version < \"3.8\"->spacy<3.1.0,>=3.0.0->de-core-news-lg==3.0.0) (3.4.1)\n",
      "Requirement already satisfied: smart-open<4.0.0,>=2.2.0 in /usr/local/lib/python3.7/dist-packages (from pathy>=0.3.5->spacy<3.1.0,>=3.0.0->de-core-news-lg==3.0.0) (3.0.0)\n",
      "Requirement already satisfied: MarkupSafe>=0.23 in /usr/local/lib/python3.7/dist-packages (from jinja2->spacy<3.1.0,>=3.0.0->de-core-news-lg==3.0.0) (1.1.1)\n",
      "Requirement already satisfied: urllib3!=1.25.0,!=1.25.1,<1.26,>=1.21.1 in /usr/local/lib/python3.7/dist-packages (from requests<3.0.0,>=2.13.0->spacy<3.1.0,>=3.0.0->de-core-news-lg==3.0.0) (1.24.3)\n",
      "Requirement already satisfied: idna<3,>=2.5 in /usr/local/lib/python3.7/dist-packages (from requests<3.0.0,>=2.13.0->spacy<3.1.0,>=3.0.0->de-core-news-lg==3.0.0) (2.10)\n",
      "Requirement already satisfied: certifi>=2017.4.17 in /usr/local/lib/python3.7/dist-packages (from requests<3.0.0,>=2.13.0->spacy<3.1.0,>=3.0.0->de-core-news-lg==3.0.0) (2020.12.5)\n",
      "Requirement already satisfied: chardet<4,>=3.0.2 in /usr/local/lib/python3.7/dist-packages (from requests<3.0.0,>=2.13.0->spacy<3.1.0,>=3.0.0->de-core-news-lg==3.0.0) (3.0.4)\n",
      "Requirement already satisfied: pyparsing>=2.0.2 in /usr/local/lib/python3.7/dist-packages (from packaging>=20.0->spacy<3.1.0,>=3.0.0->de-core-news-lg==3.0.0) (2.4.7)\n",
      "Installing collected packages: de-core-news-lg\n",
      "Successfully installed de-core-news-lg-3.0.0\n",
      "\u001b[38;5;2m✔ Download and installation successful\u001b[0m\n",
      "You can now load the package via spacy.load('de_core_news_lg')\n"
     ]
    }
   ],
   "source": [
    "# load German model\n",
    "! python -m spacy download de_core_news_lg"
   ]
  },
  {
   "cell_type": "markdown",
   "metadata": {
    "id": "ALumHnUve3u8"
   },
   "source": [
    "## Script A04\n",
    "This script is very raw and was meant to see, whether the NERs could be used to identify which dataset the question is about. When someone asks a question, then the bot is supposed to give back data from a dataset - but from which one? This is why a BM25-algorithm is used here"
   ]
  },
  {
   "cell_type": "code",
   "execution_count": 5,
   "metadata": {
    "executionInfo": {
     "elapsed": 819,
     "status": "ok",
     "timestamp": 1616076353913,
     "user": {
      "displayName": "Manuela Paganini",
      "photoUrl": "",
      "userId": "16245217794239939786"
     },
     "user_tz": -60
    },
    "id": "29jZKQ_pencv"
   },
   "outputs": [],
   "source": [
    "import pandas as pd"
   ]
  },
  {
   "cell_type": "code",
   "execution_count": 6,
   "metadata": {
    "executionInfo": {
     "elapsed": 1736,
     "status": "ok",
     "timestamp": 1616076355772,
     "user": {
      "displayName": "Manuela Paganini",
      "photoUrl": "",
      "userId": "16245217794239939786"
     },
     "user_tz": -60
    },
    "id": "6bSRjzyOency"
   },
   "outputs": [],
   "source": [
    "df=pd.read_csv(\"data/datasets_overview.csv\")"
   ]
  },
  {
   "cell_type": "code",
   "execution_count": 11,
   "metadata": {
    "colab": {
     "base_uri": "https://localhost:8080/"
    },
    "executionInfo": {
     "elapsed": 3668,
     "status": "ok",
     "timestamp": 1616076651565,
     "user": {
      "displayName": "Manuela Paganini",
      "photoUrl": "",
      "userId": "16245217794239939786"
     },
     "user_tz": -60
    },
    "id": "Q_QSDn1Penc1",
    "outputId": "2e4f6d93-2225-437c-be20-c5f1d7a4d716"
   },
   "outputs": [
    {
     "name": "stderr",
     "output_type": "stream",
     "text": [
      "333it [00:00, 1554.52it/s]\n"
     ]
    }
   ],
   "source": [
    "import numpy as np\n",
    "import spacy\n",
    "from rank_bm25 import BM25Okapi\n",
    "from tqdm import tqdm\n",
    "nlp = spacy.load(\"de_core_news_lg\")\n",
    "text_list = df[\"dataset_title\"].str.lower().values\n",
    "text_list=np.unique(text_list)\n",
    "tok_text=[] # for our tokenised corpus\n",
    "#Tokenising using SpaCy:\n",
    "for doc in tqdm(nlp.pipe(text_list, disable=[\"tagger\", \"parser\",\"ner\"])):\n",
    "    tok = [t.text for t in doc if t.is_alpha]\n",
    "    tok_text.append(tok)"
   ]
  },
  {
   "cell_type": "code",
   "execution_count": 12,
   "metadata": {
    "colab": {
     "base_uri": "https://localhost:8080/"
    },
    "executionInfo": {
     "elapsed": 802,
     "status": "ok",
     "timestamp": 1616076684024,
     "user": {
      "displayName": "Manuela Paganini",
      "photoUrl": "",
      "userId": "16245217794239939786"
     },
     "user_tz": -60
    },
    "id": "TbtpZHOGendL",
    "outputId": "96657c43-87c8-411d-a961-57947cdc5df9"
   },
   "outputs": [
    {
     "data": {
      "text/plain": [
       "array(['1-personenhaushalte [anz.]', '15-jahresverbrauch  [%]',\n",
       "       '15-jahresverbrauch [ha]', '2-personenhaushalte [anz.]',\n",
       "       '3-personenhaushalte [anz.]', '4-personenhaushalte [anz.]',\n",
       "       '5-personenhaushalte [anz.]',\n",
       "       '6 und mehr personenhaushalte [anz.]',\n",
       "       'abstimmungsarchiv des kantons zürich', 'aerzte [anz.]',\n",
       "       'aerzte [pro 1000 einw.]', 'altersquotient [%]',\n",
       "       'altpapiermengen [tonnen]',\n",
       "       'anfragestatistik des data shop im statistischen amt des kantons zürich',\n",
       "       'anteil 1 zi.-wohnungen [%]', 'anteil 1-personenhaushalte [%]',\n",
       "       'anteil 2 zi.-wohnungen [%]', 'anteil 2-personenhaushalte [%]',\n",
       "       'anteil 3 zi.-wohnungen [%]', 'anteil 3-personenhaushalte [%]',\n",
       "       'anteil 4 zi.-wohnungen [%]', 'anteil 4-personenhaushalte [%]',\n",
       "       'anteil 5 zi.-wohnungen [%]', 'anteil 5-personenhaushalte [%]',\n",
       "       'anteil 6 und mehr personenhaushalte [%]',\n",
       "       'anteil 6+ zi.-wohnungen [%]', 'anteil efh am wohnungsbestand [%]',\n",
       "       'anteil gewässerfläche [%]', 'anteil gk a [%]', 'anteil gk b [%]',\n",
       "       'anteil gk c [%]', 'anteil gk d [%]', 'anteil gk e [%]',\n",
       "       'anteil gk f [%]', 'anteil grundsteuern am steuerertrag [%]',\n",
       "       'anteil jur. pers. an allg. gemeindesteuern [%]',\n",
       "       'anteil kirchgemeinden an allg. gemeindesteuern [%]',\n",
       "       'anteil landwirtschaftsfläche [%]',\n",
       "       'anteil natürl. pers. an allg. gemeindesteuern [%]',\n",
       "       'anteil ohne gk [%]',\n",
       "       'anteil pol./schulgem. an allg. gemeindesteuern [%]',\n",
       "       'anteil siedlungsfläche [%]',\n",
       "       'anteil teilzeitbeschäftigte landwirtschaft [%]',\n",
       "       'anteil unproduktive fläche [%]', 'anteil verkehrsfläche [%]',\n",
       "       'anteil vollzeitbeschäftigte landwirtschaft [%]',\n",
       "       'anteil waldfläche [%]', 'apotheken [anz.]',\n",
       "       'apotheken [pro 1000 einw.]', 'arbeitslose [anz.]',\n",
       "       'arbeitslosenanteil an bevölkerung 15-64 jahre [%]',\n",
       "       'arbeitsstätten im primärsektor [anz.]',\n",
       "       'arbeitsstätten im sekundärsektor [anz.]',\n",
       "       'arbeitsstätten im tertiärsektor [anz.]', 'ausländeranteil [%]',\n",
       "       'ausserhalb des kt. wohnhaft besteuerte [anz.]',\n",
       "       'bauinv. dienstl. 5 jahre [fr./einw.]',\n",
       "       'bauinv. efh 5 jahre [fr./einw.]',\n",
       "       'bauinv. industr./lager 5 jahre [fr./einw.]',\n",
       "       'bauinv. landwirtschaft 5 jahre [fr./einw.]',\n",
       "       'bauinv. mfh 5 jahre [fr./einw.]',\n",
       "       'bauinv. spital, kultur usw. 5 j. [fr./einw.]',\n",
       "       'bauinv. strassen, pp 5 jahre [fr./einw.]',\n",
       "       'bauinv. ver-/entsorg. 5 jahre [fr./einw.]',\n",
       "       'bauinv. wohnen  [fr./einw.]',\n",
       "       'bauinv. öv, kommunik. 5 jahre [fr./einw.]',\n",
       "       'bauinvestitionen  [fr./einw.]', 'bauinvestitionen [mio.fr.]',\n",
       "       'baulandpreis (median) [fr./m2]',\n",
       "       'baulandpreis modell (median) [fr./m2]', 'bauzonen [ha]',\n",
       "       'bauzonen nicht überbaut  [%]', 'bauzonen nicht überbaut [ha]',\n",
       "       'bauzonen überbaut  [%]', 'bauzonen überbaut [ha]',\n",
       "       'bauzonen überbaut pro kopf [m2/einw.]',\n",
       "       'beschäftigte im gastgewerbe: anteil [%]',\n",
       "       'beschäftigte im primärsektor [anz.]',\n",
       "       'beschäftigte im sekundärsektor [anz.]',\n",
       "       'beschäftigte im tertiärsektor [anz.]',\n",
       "       'beschäftigte landwirtschaft [pers.]',\n",
       "       'bestand anderer antrieb [%]', 'bestand benzinmotor [%]',\n",
       "       'bestand dieselmotor [%]', 'bestand elektromotor [%]',\n",
       "       'bestand hybridantrieb [%]', 'bevölkerung [pers.]',\n",
       "       'bevölkerung nach gemeinde, heimat, geschlecht und alter',\n",
       "       'bevölkerung: anteil 0-14-jährige [%]',\n",
       "       'bevölkerung: anteil 15-19-jährige [%]',\n",
       "       'bevölkerung: anteil 20-39-jährige [%]',\n",
       "       'bevölkerung: anteil 40-64-jährige [%]',\n",
       "       'bevölkerung: anteil 65-79-jährige [%]',\n",
       "       'bevölkerung: anteil 80 u.m.-jährige [%]',\n",
       "       'bevölkerung: durchschnittsalter [jahre]',\n",
       "       'bevölkerung: frauen [pers.]', 'bevölkerung: frauenanteil [%]',\n",
       "       'bevölkerung: heimat ausland [pers.]',\n",
       "       'bevölkerung: heimat schweiz [pers.]',\n",
       "       'bevölkerung: katholisch [pers.]', 'bevölkerung: männer [pers.]',\n",
       "       'bevölkerung: männeranteil [%]', 'bevölkerung: reformiert [pers.]',\n",
       "       'bevölkerung: übrige/andere/ohne konfession [pers.]',\n",
       "       'bevölkerungsdichte [einw./km2]', 'bevölkerungszunahme 1 jahr [%]',\n",
       "       'bevölkerungszunahme 1 jahr [pers.]',\n",
       "       'bevölkerungszunahme 5 jahre [%]',\n",
       "       'bevölkerungszunahme 5 jahre [pers.]',\n",
       "       'bezügerquote der bedarfsabh. sozialleistungen [%]',\n",
       "       'bruttoinvestitionen [fr./einw.]', 'bruttoverschuldungsanteil [%]',\n",
       "       'christkatholische kirchensteuerpflichtige [anz.]',\n",
       "       'corona-hilfen im kulturbereich im kanton zürich',\n",
       "       'covid_19 belegung intensivpflege kanton zürich',\n",
       "       'covid_19 contact tracing kanton zürich',\n",
       "       'covid_19 einreisequarantäne kanton zürich',\n",
       "       'covid_19 fallzahlen kanton zürich',\n",
       "       'covid_19 massnahmen im kanton zürich',\n",
       "       'covid_19 open government data reported by the swiss cantons and the principality of liechtenstein',\n",
       "       'covid_19 sterbeorte kanton zürich',\n",
       "       'durchschnittliche haushaltsgrösse [pers.]', 'efh-bestand [whg.]',\n",
       "       'eigenkapital [fr./einw.]',\n",
       "       'eigenkapital steuerpfl. jur. pers. [mio.fr.]',\n",
       "       'ertrags- (+) / aufwandüberschuss (-) [fr./einw.]',\n",
       "       'erwerb des schweizer bürgerrechts [pers.]',\n",
       "       'erwerb des schweizer bürgerrechts [pro 1000 einw.]',\n",
       "       'finanzvermögen [fr./einw.]', 'fläche [ha]',\n",
       "       'fremdkapital [fr./einw.]',\n",
       "       'geb.vol. dienstleistungen: anteil [%]',\n",
       "       'geb.vol. dienstleistungen: zunahme [%]',\n",
       "       'geb.vol. industrie/lager: anteil [%]',\n",
       "       'geb.vol. industrie/lager: zunahme [%]',\n",
       "       'geb.vol. infrastruktur: anteil [%]',\n",
       "       'geb.vol. infrastruktur: zunahme [%]',\n",
       "       'geb.vol. landwirtschaft: anteil [%]',\n",
       "       'geb.vol. landwirtschaft: zunahme [%]',\n",
       "       'geb.vol. nebengebäude: anteil [%]',\n",
       "       'geb.vol. nebengebäude: zunahme [%]',\n",
       "       'geb.vol. wohnen: anteil [%]', 'geb.vol. wohnen: zunahme [%]',\n",
       "       'geburten [pers.]', 'geburtenrate (5-j.-mittel) [pro 1000 einw.]',\n",
       "       'geburtenrate [pro 1000 einw.]',\n",
       "       'geburtenüberschuss 5-j.-mittel [pro 1000 einw.]',\n",
       "       'gebäudevolumen [1000 m3]', 'gebäudevolumen: zunahme [%]',\n",
       "       'gemeindebeitrag an zvv [1000 fr.]',\n",
       "       'gemeindebeitrag an zvv [fr./einw.]',\n",
       "       'gesamtsteuerfuss (ohne kirchen) [%]',\n",
       "       'grosse betriebe (250+ vzä) [anz.]',\n",
       "       'hauptberufliche landwirtschaftsbetriebe [anz.]',\n",
       "       'heiraten [anz.]', 'heiraten [pro 1000 einw.]',\n",
       "       'hotelbetten [anz.]', 'hotelbetten pro 1000 einwohner [anz.]',\n",
       "       'hotelbetten pro hotel [anz.]', 'hotels [anz.]', 'höhe [m.ü.m.]',\n",
       "       'investitionsanteil [%]', 'jugendquotient [%]',\n",
       "       'kapitaldienstanteil [%]',\n",
       "       'katholische kirchensteuerpflichtige [anz.]',\n",
       "       'kehrichtmengen [tonnen]', 'kleine betriebe (10-49 vzä) [anz.]',\n",
       "       'krw wähleranteil al [%]', 'krw wähleranteil bdp [%]',\n",
       "       'krw wähleranteil cvp [%]', 'krw wähleranteil edu [%]',\n",
       "       'krw wähleranteil evp [%]', 'krw wähleranteil fdp [%]',\n",
       "       'krw wähleranteil glp [%]', 'krw wähleranteil gp [%]',\n",
       "       'krw wähleranteil sd [%]', 'krw wähleranteil sp [%]',\n",
       "       'krw wähleranteil svp [%]', 'kühe [anz.]',\n",
       "       'landwirtschaftliche nutzfläche [ha]',\n",
       "       'landwirtschaftsbetriebe [anz.]', 'leerwohnungen total [anz.]',\n",
       "       'leerwohnungsquote [%]',\n",
       "       'lufttemperatur und luftfeuchte lora-sensor-messwerte',\n",
       "       'mikrobetriebe (0-9 vzä) [anz.]',\n",
       "       'mittlere betriebe (50-249 vzä) [anz.]',\n",
       "       'miv-anteil (modal split) [%]',\n",
       "       'miv-wege quell-, ziel- und binnenverkehr [anz.]',\n",
       "       'motorrad-neuzulasssungen pro 1000 einw. [anz.]',\n",
       "       'motorrad-neuzulassungen [anz.]', 'motorräder [anz.]',\n",
       "       'motorräder pro 1000 einwohner [anz.]',\n",
       "       'nettoaufwand allgemeine verwaltung [fr./einw.]',\n",
       "       'nettoaufwand bildung [fr./einw.]',\n",
       "       'nettoaufwand finanzen und steuern [fr./einw.]',\n",
       "       'nettoaufwand gesundheit [fr./einw.]',\n",
       "       'nettoaufwand kultur, sport und freizeit [fr./einw.]',\n",
       "       'nettoaufwand soziale sicherheit [fr./einw.]',\n",
       "       'nettoaufwand umweltschutz und raumordnung [fr./einw.]',\n",
       "       'nettoaufwand verkehr und nachrichtenübermittlung [fr./einw.]',\n",
       "       'nettoaufwand volkswirtschaft [fr./einw.]',\n",
       "       'nettoaufwand öffentliche ordnung und sicherheit [fr./einw.]',\n",
       "       'nettoinvestitionen [fr./einw.]', 'nettovermögen [fr./einw.]',\n",
       "       'neu gegründete unternehmen total [anz.]',\n",
       "       'neuerstellte efh [whg.]', 'neuerstellte mfh-wohnungen [whg.]',\n",
       "       'neuerstellte wohnungen [whg.]', 'neuzulassungen  dieselmotor [%]',\n",
       "       'neuzulassungen  elektromotor [%]',\n",
       "       'neuzulassungen  hybridantrieb [%]',\n",
       "       'neuzulassungen anderer antrieb [%]',\n",
       "       'neuzulassungen benzinmotor [%]', 'nrw wähleranteil al [%]',\n",
       "       'nrw wähleranteil bdp [%]', 'nrw wähleranteil cvp [%]',\n",
       "       'nrw wähleranteil edu [%]', 'nrw wähleranteil evp [%]',\n",
       "       'nrw wähleranteil fdp [%]', 'nrw wähleranteil glp [%]',\n",
       "       'nrw wähleranteil gp [%]', 'nrw wähleranteil sd [%]',\n",
       "       'nrw wähleranteil sp [%]', 'nrw wähleranteil svp [%]',\n",
       "       'nur an der quelle besteuerte quellensteuerpfl. [anz.]',\n",
       "       'ordentlich und an der quelle besteuerte [anz.]',\n",
       "       'panaschierstatistik zu den zürcher kantonsratswahlen',\n",
       "       'personalsteuerpflichtige [anz.]', 'personenwagen [anz.]',\n",
       "       'personenwagen pro 1000 einwohner [anz.]',\n",
       "       'polizeilich registrierte verkehrsunfälle im kanton zürich',\n",
       "       'privathaushalte total [anz.]', 'pw-neuzulassungen [anz.]',\n",
       "       'pw-neuzulassungen pro 1000 einw. [anz.]',\n",
       "       'reformierte kirchensteuerpflichtige [anz.]',\n",
       "       'reingewinn juristische personen [mio.fr.]', 'restaurants [anz.]',\n",
       "       'restaurants pro 1000 einwohner [anz.]',\n",
       "       'rinderviehbestand [anz.]', 'schafe [anz.]', 'scheidungen [anz.]',\n",
       "       'scheidungen [pro 1000 einw.]', 'schweine [anz.]',\n",
       "       'schül. berufsschule [anz.]',\n",
       "       'schül. berufsschule [pro 1000 einw.]',\n",
       "       'schül. kindergarten [anz.]',\n",
       "       'schül. kindergarten [pro 1000 einw.]',\n",
       "       'schül. mittelschule [anz.]',\n",
       "       'schül. mittelschule [pro 1000 einw.]', 'schül. oberstufe [anz.]',\n",
       "       'schül. oberstufe [pro 1000 einw.]', 'schül. primarschule [anz.]',\n",
       "       'schül. primarschule [pro 1000 einw.]',\n",
       "       'schül. sekundarstufe i [pers. pro 1000 einw.]',\n",
       "       'schül. sekundarstufe ii [pers. pro 1000 einw.]',\n",
       "       'schül. tertiärstufe [pers. pro 1000 einw.]',\n",
       "       'selbstfinanzierung [fr./einw.]', 'selbstfinanzierungsanteil [%]',\n",
       "       'selbstfinanzierungsgrad [%]', 'sozialhilfequote [%]',\n",
       "       'statistik der informationszugangsgesuche nach idg des kantons zürich',\n",
       "       'statistik der jugendstrafrechtspflege des kantons zürich',\n",
       "       'sterbefälle [pers.]', 'sterberate (5-j.-mittel) [pro 1000 einw.]',\n",
       "       'sterberate [pro 1000 einw.]',\n",
       "       'steuerb. einkommen natürl. pers. 25%-quantil [fr.]',\n",
       "       'steuerb. einkommen natürl. pers. 75%-quantil [fr.]',\n",
       "       'steuerb. einkommen natürl. pers. durchschn. [fr.]',\n",
       "       'steuerb. einkommen natürl. pers. median [fr.]',\n",
       "       'steuerb. vermögen natürl. pers. 25%-quantil [fr.]',\n",
       "       'steuerb. vermögen natürl. pers. 75%-quantil [fr.]',\n",
       "       'steuerb. vermögen natürl. pers. durchschn. [fr.]',\n",
       "       'steuerb. vermögen natürl. pers. median [fr.]',\n",
       "       'steuerbares einkommen natürliche pers. [mio.fr.]',\n",
       "       'steuerbares vermögen natürliche pers. [mio.fr.]',\n",
       "       'steuerertrag allgemeine gemeindesteuern [mio.fr.]',\n",
       "       'steuerertrag grundsteuern [mio.fr.]',\n",
       "       'steuerertrag kirchgemeinden [mio.fr.]',\n",
       "       'steuerertrag politische/schulgemeinde [mio.fr.]',\n",
       "       'steuerertrag total [mio.fr.]',\n",
       "       'steuerertrag von juristischen personen [mio.fr.]',\n",
       "       'steuerertrag von natürlichen personen [mio.fr.]',\n",
       "       'steuerfuss (ohne kirchen) [%]',\n",
       "       'steuerfuss juristische personen [%]',\n",
       "       'steuerfüsse der zürcher gemeinden für natürliche und juristische personen',\n",
       "       'steuerkraft (arith. mittel 3 jahre) [mio.fr.]',\n",
       "       'steuerkraft [mio.fr.]',\n",
       "       'steuerkraft ber. (arith. mittel 3 jahre) [mio.fr.]',\n",
       "       'steuerkraft berichtigt [mio.fr.]',\n",
       "       'steuerkraft berichtigt pro kopf [fr.]',\n",
       "       'steuerkraft pro kopf [fr.]',\n",
       "       'steuerpflichtige juristische personen [anz.]',\n",
       "       'total arbeitsstätten [anz.]', 'total beschäftigte [anz.]',\n",
       "       'total geschaffene stellen, beschäftigte [anz.]',\n",
       "       'total kirchensteuerpflichtige [anz.]',\n",
       "       'total ordentlich besteuerte [anz.]',\n",
       "       'total quellensteuerpflichtige [anz.]', 'total vzä [anz.]',\n",
       "       'unfälle [pro 1000 einw.]', 'verkäufe efh [anz.]',\n",
       "       'verkäufe mfh [anz.]', 'verkäufe stockwerkeigentum [anz.]',\n",
       "       'verkäufe von unbebautem land [anz.]',\n",
       "       'verpackungsglasmengen [tonnen]', 'vzä im primärsektor [anz.]',\n",
       "       'vzä im sekundärsektor [anz.]', 'vzä im tertiärsektor [anz.]',\n",
       "       'wahlarchiv des kantons zürich', 'wahlbeteiligung kantonsrat [%]',\n",
       "       'wahlbeteiligung nationalrat [%]', 'wanderungsbilanz [pers.]',\n",
       "       'wanderungsbilanz [pro 1000 einw.]',\n",
       "       'wasserverbrauch pro tag und kopf [liter]',\n",
       "       'web analytics der open government data des kantons zürich',\n",
       "       'weg zur nächsten haltestelle [m]', 'wegzüge [%]',\n",
       "       'wegzüge [pers.]', 'wohnungen: anteil eigentumsobjekte [%]',\n",
       "       'wohnungsbestand [whg.]', 'zahnärzte [anz.]',\n",
       "       'zahnärzte [pro 1000 einw.]', 'zinsbelastungsanteil [%]',\n",
       "       'zl-bezügerquote der personen ab 65 jahren [%]',\n",
       "       'zukünftige bevölkerung kanton zürich und regionen nach geschlecht und alter',\n",
       "       'zuzüge [%]', 'zuzüge [pers.]', 'öv-anteil (modal split) [%]',\n",
       "       'öv-wege quell-, ziel- und binnenverkehr [anz.]',\n",
       "       'ø eigenkapital steuerpfl. jur. pers. [1000 fr.]',\n",
       "       'ø reingewinn steuerpfl. jur. pers. [fr.]',\n",
       "       'ø steuerbares einkommen natürliche pers. [fr.]',\n",
       "       'ø steuerbares vermögen natürliche pers. [1000 fr.]'], dtype=object)"
      ]
     },
     "execution_count": 12,
     "metadata": {
      "tags": []
     },
     "output_type": "execute_result"
    }
   ],
   "source": [
    "text_list"
   ]
  },
  {
   "cell_type": "code",
   "execution_count": 13,
   "metadata": {
    "executionInfo": {
     "elapsed": 1079,
     "status": "ok",
     "timestamp": 1616076689276,
     "user": {
      "displayName": "Manuela Paganini",
      "photoUrl": "",
      "userId": "16245217794239939786"
     },
     "user_tz": -60
    },
    "id": "YuQPpjYxendN"
   },
   "outputs": [],
   "source": [
    "bm25 = BM25Okapi(tok_text)"
   ]
  },
  {
   "cell_type": "code",
   "execution_count": 14,
   "metadata": {
    "colab": {
     "base_uri": "https://localhost:8080/"
    },
    "executionInfo": {
     "elapsed": 944,
     "status": "ok",
     "timestamp": 1616076691760,
     "user": {
      "displayName": "Manuela Paganini",
      "photoUrl": "",
      "userId": "16245217794239939786"
     },
     "user_tz": -60
    },
    "id": "iE5JldHJendP",
    "outputId": "e366a72a-5b43-4e3f-fe4d-9f279fe1fbb0"
   },
   "outputs": [
    {
     "name": "stdout",
     "output_type": "stream",
     "text": [
      "Searched in 0.001 seconds \n",
      "\n",
      "eigenkapital [fr./einw.]\n",
      "eigenkapital steuerpfl. jur. pers. [mio.fr.]\n",
      "ø eigenkapital steuerpfl. jur. pers. [1000 fr.]\n",
      "durchschnittliche haushaltsgrösse [pers.]\n",
      "bevölkerungsdichte [einw./km2]\n"
     ]
    }
   ],
   "source": [
    "query = \"Eigenkapital\"\n",
    "tokenized_query = query.lower().split(\" \")\n",
    "import time\n",
    "t0 = time.time()\n",
    "results = bm25.get_top_n(tokenized_query, text_list, n=5)\n",
    "t1 = time.time()\n",
    "print(f'Searched in {round(t1-t0,3) } seconds \\n')\n",
    "\n",
    "for i in results:\n",
    "    print(i)"
   ]
  },
  {
   "cell_type": "code",
   "execution_count": null,
   "metadata": {
    "id": "3P_UWkfBendQ"
   },
   "outputs": [],
   "source": []
  }
 ],
 "metadata": {
  "colab": {
   "collapsed_sections": [],
   "name": "A04_temp_understand_logic.ipynb",
   "provenance": []
  },
  "kernelspec": {
   "display_name": ".statbot",
   "language": "python",
   "name": ".statbot"
  },
  "language_info": {
   "codemirror_mode": {
    "name": "ipython",
    "version": 3
   },
   "file_extension": ".py",
   "mimetype": "text/x-python",
   "name": "python",
   "nbconvert_exporter": "python",
   "pygments_lexer": "ipython3",
   "version": "3.8.5"
  }
 },
 "nbformat": 4,
 "nbformat_minor": 1
}
