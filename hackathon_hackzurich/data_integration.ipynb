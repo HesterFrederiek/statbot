{
 "cells": [
  {
   "cell_type": "markdown",
   "id": "7171936b",
   "metadata": {},
   "source": [
    "# Data intgeration notebook\n",
    "\n",
    "Use this notebook to update the database with your new data"
   ]
  },
  {
   "cell_type": "markdown",
   "id": "70516f2e",
   "metadata": {},
   "source": [
    "## PostgreSQL connection check\n",
    "\n",
    "Let's firt check that your database connectin works.\n",
    "\n",
    "Adapt the credentials to your configuration and run this cell to make sure you can connect to your database."
   ]
  },
  {
   "cell_type": "code",
   "execution_count": 26,
   "id": "c78431f6",
   "metadata": {},
   "outputs": [
    {
     "name": "stdout",
     "output_type": "stream",
     "text": [
      "Connection to PostgreSQL works\n"
     ]
    }
   ],
   "source": [
    "POSTGRES_HOST = \"localhost\"\n",
    "POSTGRES_PORT = \"5432\"\n",
    "POSTGRES_DB = \"hack_zurich\"\n",
    "POSTGRES_USER = \"hack_zurich\"\n",
    "POSTGRES_PASSWORD = \"hack_zurich\"\n",
    "INPUT_DATA_FOLDER = \"input_data\"\n",
    "\n",
    "import psycopg2\n",
    "\n",
    "db_connection = psycopg2.connect(\n",
    "    dbname=POSTGRES_DB,\n",
    "    user=POSTGRES_USER,\n",
    "    password=POSTGRES_PASSWORD,\n",
    "    host=POSTGRES_HOST,\n",
    "    port=POSTGRES_PORT)\n",
    "\n",
    "db_cursor = db_connection.cursor()\n",
    "\n",
    "db_cursor.execute(\"SELECT * FROM accessibility_bus LIMIT 50\")\n",
    "\n",
    "print(\"Connection to PostgreSQL works\")"
   ]
  },
  {
   "cell_type": "markdown",
   "id": "6f33ed2a",
   "metadata": {},
   "source": [
    "# Data update\n",
    "\n",
    "Run this cell to update your data (add new rows).\n",
    "\n",
    "    print(f\"\"\"INSERT INTO indicators VALUES (\n",
    "        {indicator_id},\n",
    "        {name},\n",
    "        {description},\n",
    "        {source or None},\n",
    "        {unit_short or None},\n",
    "        {unit_long or None},\n",
    "        {current_date or None},\n",
    "        {min_year or None},\n",
    "        {max_year or None}\n",
    "    )\"\"\")"
   ]
  },
  {
   "cell_type": "code",
   "execution_count": 42,
   "id": "5e8deb77",
   "metadata": {},
   "outputs": [
    {
     "ename": "SyntaxError",
     "evalue": "syntax error at or near \"current_date\"\nLINE 1: ...name, description, source, unit_short, unit_long, current_da...\n                                                             ^\n",
     "output_type": "error",
     "traceback": [
      "\u001b[0;31m---------------------------------------------------------------------------\u001b[0m",
      "\u001b[0;31mSyntaxError\u001b[0m                               Traceback (most recent call last)",
      "\u001b[0;32m/tmp/ipykernel_5117/932296615.py\u001b[0m in \u001b[0;36m<module>\u001b[0;34m\u001b[0m\n\u001b[1;32m     12\u001b[0m \u001b[0;31m# print(len(read_csv(f\"{INPUT_DATA_FOLDER}/EN_INDICATORS.csv\")))\u001b[0m\u001b[0;34m\u001b[0m\u001b[0;34m\u001b[0m\u001b[0m\n\u001b[1;32m     13\u001b[0m \u001b[0;32mfor\u001b[0m \u001b[0mindicator_id\u001b[0m\u001b[0;34m,\u001b[0m \u001b[0mname\u001b[0m\u001b[0;34m,\u001b[0m \u001b[0mdescription\u001b[0m\u001b[0;34m,\u001b[0m \u001b[0msource\u001b[0m\u001b[0;34m,\u001b[0m \u001b[0munit_short\u001b[0m\u001b[0;34m,\u001b[0m \u001b[0munit_long\u001b[0m\u001b[0;34m,\u001b[0m \u001b[0mcurrent_date\u001b[0m\u001b[0;34m,\u001b[0m \u001b[0mmin_year\u001b[0m\u001b[0;34m,\u001b[0m \u001b[0mmax_year\u001b[0m \u001b[0;32min\u001b[0m \u001b[0mread_csv\u001b[0m\u001b[0;34m(\u001b[0m\u001b[0;34mf\"{INPUT_DATA_FOLDER}/EN_INDICATORS.csv\"\u001b[0m\u001b[0;34m)\u001b[0m\u001b[0;34m:\u001b[0m\u001b[0;34m\u001b[0m\u001b[0;34m\u001b[0m\u001b[0m\n\u001b[0;32m---> 14\u001b[0;31m     cursor.execute(\"\"\"INSERT INTO indicators (indicator_id, name, description, source, unit_short, unit_long, current_date, min_year, max_year) VALUES (\n\u001b[0m\u001b[1;32m     15\u001b[0m         \u001b[0;34m%\u001b[0m\u001b[0;34m(\u001b[0m\u001b[0mindicator_id\u001b[0m\u001b[0;34m)\u001b[0m\u001b[0ms\u001b[0m\u001b[0;34m,\u001b[0m\u001b[0;34m\u001b[0m\u001b[0;34m\u001b[0m\u001b[0m\n\u001b[1;32m     16\u001b[0m         \u001b[0;34m%\u001b[0m\u001b[0;34m(\u001b[0m\u001b[0mname\u001b[0m\u001b[0;34m)\u001b[0m\u001b[0ms\u001b[0m\u001b[0;34m,\u001b[0m\u001b[0;34m\u001b[0m\u001b[0;34m\u001b[0m\u001b[0m\n",
      "\u001b[0;31mSyntaxError\u001b[0m: syntax error at or near \"current_date\"\nLINE 1: ...name, description, source, unit_short, unit_long, current_da...\n                                                             ^\n"
     ]
    }
   ],
   "source": [
    "import csv\n",
    "\n",
    "def read_csv(csv_file_path):\n",
    "    with open(csv_file_path, \"r\") as csv_file:\n",
    "        reader = csv.reader(csv_file)\n",
    "\n",
    "        next(reader) # Remove the headers\n",
    "        \n",
    "        return list(reader)\n",
    "\n",
    "    \n",
    "# print(len(read_csv(f\"{INPUT_DATA_FOLDER}/EN_INDICATORS.csv\")))\n",
    "for indicator_id, name, description, source, unit_short, unit_long, current_date, min_year, max_year in read_csv(f\"{INPUT_DATA_FOLDER}/EN_INDICATORS.csv\"):\n",
    "    cursor.execute(\"\"\"INSERT INTO indicators (indicator_id, name, description, source, unit_short, unit_long, current_date, min_year, max_year) VALUES (\n",
    "        %(indicator_id)s,\n",
    "        %(name)s,\n",
    "        %(description)s,\n",
    "        %(source)s,\n",
    "        %(unit_short)s,\n",
    "        %(unit_long)s,\n",
    "        %(current_date)s,\n",
    "        %(min_year)s,\n",
    "        %(max_year)s\n",
    "    )\"\"\", {\n",
    "        'indicator_id': indicator_id,\n",
    "        'name': name,\n",
    "        'description': description,\n",
    "        'source': source or None,\n",
    "        'unit_short': unit_short or None,\n",
    "        'unit_long': unit_long or None,\n",
    "        'current_date': current_date or None,\n",
    "        'min_year': min_year or None,\n",
    "        'max_year': max_year or None\n",
    "    })\n",
    "    "
   ]
  },
  {
   "cell_type": "markdown",
   "id": "3a0accfa",
   "metadata": {},
   "source": [
    "## Views creation\n",
    "\n",
    "Run he below cell to generate the SQL code necessary to create the views."
   ]
  },
  {
   "cell_type": "code",
   "execution_count": 23,
   "id": "c24ca132",
   "metadata": {},
   "outputs": [
    {
     "name": "stdout",
     "output_type": "stream",
     "text": [
      "CREATE VIEW accessibility_bus AS\n",
      "SELECT v.value as \"access_by_bus\", v.year, v.spatialunit_id\n",
      "FROM indicators i inner join indicator_values2 v on i.indicator_id = v.indicator_id\n",
      "WHERE trim(i.name) = 'share of people living in proximity of a busstop';\n",
      "\n",
      "\n",
      "CREATE VIEW accessibility_train AS\n",
      "SELECT v.value as \"access_by_suburban_train\", v.year, v.spatialunit_id\n",
      "FROM indicators i inner join indicator_values2 v on i.indicator_id = v.indicator_id\n",
      "WHERE trim(i.name) = 'share of people living in proximity of a trainstation';\n",
      "\n",
      "\n",
      "CREATE VIEW number_of_passenger_cars AS\n",
      "SELECT v.value as \"passenger_cars_per_1000_inhabitants\", v.year, v.spatialunit_id\n",
      "FROM indicators i inner join indicator_values2 v on i.indicator_id = v.indicator_id\n",
      "WHERE trim(i.name) = 'number of cars per capita';\n",
      "\n",
      "\n",
      "CREATE VIEW distance_next_stop AS\n",
      "SELECT v.value as \"distance_to_next_stop\", v.year, v.spatialunit_id\n",
      "FROM indicators i inner join indicator_values2 v on i.indicator_id = v.indicator_id\n",
      "WHERE trim(i.name) = 'average distance to the next stop';\n",
      "\n",
      "\n",
      "CREATE VIEW accessibility_train_and_bus AS\n",
      "SELECT v.value as \"access_by_suburban_train_and_bus\", v.year, v.spatialunit_id\n",
      "FROM indicators i inner join indicator_values2 v on i.indicator_id = v.indicator_id\n",
      "WHERE trim(i.name) = 'share of people living in proximity of a trainstation or busstop';\n",
      "\n",
      "\n",
      "CREATE VIEW public_transport_share AS\n",
      "SELECT v.value as \"public_transport_share_modal_split\", v.year, v.spatialunit_id\n",
      "FROM indicators i inner join indicator_values2 v on i.indicator_id = v.indicator_id\n",
      "WHERE trim(i.name) = 'share of public transport in traffic movements of people living';\n",
      "\n",
      "\n",
      "CREATE VIEW miv_share AS\n",
      "SELECT v.value as \"miv_share_modal_split\", v.year, v.spatialunit_id\n",
      "FROM indicators i inner join indicator_values2 v on i.indicator_id = v.indicator_id\n",
      "WHERE trim(i.name) = 'share of motorised private transport in traffic movements of people living';\n",
      "\n",
      "\n",
      "CREATE VIEW amount_new_pw_registrations AS\n",
      "SELECT v.value as \"amount_new_pw_registrations_per_1000_inhabitants\", v.year, v.spatialunit_id\n",
      "FROM indicators i inner join indicator_values2 v on i.indicator_id = v.indicator_id\n",
      "WHERE trim(i.name) = 'number of newly registered cars';\n",
      "\n",
      "\n",
      "CREATE VIEW share_hybrid_cars AS\n",
      "SELECT v.value as \"share_of_hybrid_cars\", v.year, v.spatialunit_id\n",
      "FROM indicators i inner join indicator_values2 v on i.indicator_id = v.indicator_id\n",
      "WHERE trim(i.name) = 'share of hybrid vehicles';\n",
      "\n",
      "\n",
      "CREATE VIEW share_electric_cars AS\n",
      "SELECT v.value as \"share_electric_cars\", v.year, v.spatialunit_id\n",
      "FROM indicators i inner join indicator_values2 v on i.indicator_id = v.indicator_id\n",
      "WHERE trim(i.name) = 'share of electric vehicles';\n",
      "\n",
      "\n",
      "CREATE VIEW new_hybrid_car_registrations AS\n",
      "SELECT v.value as \"new_hybrid_car_registrations\", v.year, v.spatialunit_id\n",
      "FROM indicators i inner join indicator_values2 v on i.indicator_id = v.indicator_id\n",
      "WHERE trim(i.name) = 'share of hybrid vehicles within the newly registered cars';\n",
      "\n",
      "\n",
      "CREATE VIEW new_electric_car_registrations AS\n",
      "SELECT v.value as \"new_electric_car_registrations\", v.year, v.spatialunit_id\n",
      "FROM indicators i inner join indicator_values2 v on i.indicator_id = v.indicator_id\n",
      "WHERE trim(i.name) = 'share of electric vehicles within the newly registered cars';\n",
      "\n",
      "\n",
      "CREATE VIEW charging_stations_electric_cars AS\n",
      "SELECT v.value as \"charging_stations\", v.year, v.spatialunit_id\n",
      "FROM indicators i inner join indicator_values2 v on i.indicator_id = v.indicator_id\n",
      "WHERE trim(i.name) = 'Charging stations of electronic cars [no.] ';\n",
      "\n",
      "\n",
      "CREATE VIEW charging_stations_electric_cars_per_inh AS\n",
      "SELECT v.value as \"charging_stations_per_inh\", v.year, v.spatialunit_id\n",
      "FROM indicators i inner join indicator_values2 v on i.indicator_id = v.indicator_id\n",
      "WHERE trim(i.name) = 'Charging stations of electronic cars per 1000 inhabitants [no.] ';\n",
      "\n",
      "\n",
      "CREATE VIEW total_electric_hybrid_cars AS\n",
      "SELECT v.value as \"total_electric_cars\", v.year, v.spatialunit_id\n",
      "FROM indicators i inner join indicator_values2 v on i.indicator_id = v.indicator_id\n",
      "WHERE trim(i.name) = 'Total of electric and hybrid motor cars stock [%]';\n",
      "\n",
      "\n",
      "CREATE VIEW total_registrations_electric_hybrid_cars AS\n",
      "SELECT v.value as \"total_reg_electric_cars\", v.year, v.spatialunit_id\n",
      "FROM indicators i inner join indicator_values2 v on i.indicator_id = v.indicator_id\n",
      "WHERE trim(i.name) = ' Total new registrations of electric and hybrid motor cars [%] ';\n",
      "\n",
      "\n"
     ]
    }
   ],
   "source": [
    "import csv\n",
    "\n",
    "with open(f\"{INPUT_DATA_FOLDER}/INDICATORS_VIEWS.csv\", \"r\") as views_csv:\n",
    "    reader = csv.reader(views_csv)\n",
    "\n",
    "    next(reader) # Remove the headers\n",
    "\n",
    "    for indicator_id, short_description, question_type, view_name, view_column_value in reader:\n",
    "        # TODO: maybe use 'CREATE OR REPLACE VIEW' instead ?\n",
    "        print(f\"\"\"CREATE VIEW {view_name} AS\n",
    "SELECT v.value as \"{view_column_value}\", v.year, v.spatialunit_id\n",
    "FROM indicators i inner join indicator_values2 v on i.indicator_id = v.indicator_id\n",
    "WHERE trim(i.name) = '{short_description}';\n",
    "\n",
    "\"\"\")"
   ]
  },
  {
   "cell_type": "code",
   "execution_count": null,
   "id": "de6fde7a",
   "metadata": {},
   "outputs": [],
   "source": []
  }
 ],
 "metadata": {
  "kernelspec": {
   "display_name": "Python 3 (ipykernel)",
   "language": "python",
   "name": "python3"
  },
  "language_info": {
   "codemirror_mode": {
    "name": "ipython",
    "version": 3
   },
   "file_extension": ".py",
   "mimetype": "text/x-python",
   "name": "python",
   "nbconvert_exporter": "python",
   "pygments_lexer": "ipython3",
   "version": "3.9.7"
  }
 },
 "nbformat": 4,
 "nbformat_minor": 5
}
