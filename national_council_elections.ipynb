{
 "cells": [
  {
   "cell_type": "markdown",
   "id": "f53c5810-c09b-4e29-b904-02085e80e298",
   "metadata": {},
   "source": [
    "# Nationalratswahlen"
   ]
  },
  {
   "cell_type": "code",
   "execution_count": 3,
   "id": "8d9341b2-9f02-4627-b65b-7813ab430615",
   "metadata": {},
   "outputs": [
    {
     "name": "stdout",
     "output_type": "stream",
     "text": [
      "Collecting pyaxis\n",
      "  Downloading pyaxis-0.3.4.tar.gz (33 kB)\n",
      "Collecting numpy\n",
      "  Downloading numpy-1.21.4-cp39-cp39-manylinux_2_12_x86_64.manylinux2010_x86_64.whl (15.7 MB)\n",
      "\u001b[K     |████████████████████████████████| 15.7 MB 6.8 MB/s eta 0:00:01\n",
      "\u001b[?25hRequirement already satisfied: requests in /opt/conda/lib/python3.9/site-packages (from pyaxis) (2.26.0)\n",
      "Collecting pandas\n",
      "  Downloading pandas-1.3.4-cp39-cp39-manylinux_2_17_x86_64.manylinux2014_x86_64.whl (11.5 MB)\n",
      "\u001b[K     |████████████████████████████████| 11.5 MB 9.6 MB/s eta 0:00:01\n",
      "\u001b[?25hCollecting pyjstat\n",
      "  Downloading pyjstat-2.2.1.tar.gz (794 kB)\n",
      "\u001b[K     |████████████████████████████████| 794 kB 61.1 MB/s eta 0:00:01\n",
      "\u001b[?25hRequirement already satisfied: pytz>=2017.3 in /opt/conda/lib/python3.9/site-packages (from pandas->pyaxis) (2021.1)\n",
      "Requirement already satisfied: python-dateutil>=2.7.3 in /opt/conda/lib/python3.9/site-packages (from pandas->pyaxis) (2.8.2)\n",
      "Requirement already satisfied: six>=1.5 in /opt/conda/lib/python3.9/site-packages (from python-dateutil>=2.7.3->pandas->pyaxis) (1.16.0)\n",
      "Requirement already satisfied: idna<4,>=2.5 in /opt/conda/lib/python3.9/site-packages (from requests->pyaxis) (3.1)\n",
      "Requirement already satisfied: charset-normalizer~=2.0.0 in /opt/conda/lib/python3.9/site-packages (from requests->pyaxis) (2.0.0)\n",
      "Requirement already satisfied: urllib3<1.27,>=1.21.1 in /opt/conda/lib/python3.9/site-packages (from requests->pyaxis) (1.26.6)\n",
      "Requirement already satisfied: certifi>=2017.4.17 in /opt/conda/lib/python3.9/site-packages (from requests->pyaxis) (2021.5.30)\n",
      "Building wheels for collected packages: pyaxis, pyjstat\n",
      "  Building wheel for pyaxis (setup.py) ... \u001b[?25ldone\n",
      "\u001b[?25h  Created wheel for pyaxis: filename=pyaxis-0.3.4-py3-none-any.whl size=10766 sha256=4cdb0200ac10f4323b8330c6f92ed3c3054c82c548e070d67471f6885fe58492\n",
      "  Stored in directory: /home/jovyan/.cache/pip/wheels/62/9d/72/93ff83bda641a1843128911c9a94a7f739aaf4788388f5db67\n",
      "  Building wheel for pyjstat (setup.py) ... \u001b[?25ldone\n",
      "\u001b[?25h  Created wheel for pyjstat: filename=pyjstat-2.2.1-py3-none-any.whl size=19429 sha256=ed0e4e8a15fd7b7b8915ae523e9ba6f058ccf5a4f26b7aa76b8bb43fa681aa18\n",
      "  Stored in directory: /home/jovyan/.cache/pip/wheels/94/28/15/0c98e3d81093d35fb6bd1f28295e145788970d18b7a0076f22\n",
      "Successfully built pyaxis pyjstat\n",
      "Installing collected packages: numpy, pandas, pyjstat, pyaxis\n",
      "Successfully installed numpy-1.21.4 pandas-1.3.4 pyaxis-0.3.4 pyjstat-2.2.1\n",
      "\u001b[33mWARNING: You are using pip version 21.2.4; however, version 21.3.1 is available.\n",
      "You should consider upgrading via the '/opt/conda/bin/python3 -m pip install --upgrade pip' command.\u001b[0m\n"
     ]
    }
   ],
   "source": [
    "!pip install pyaxis"
   ]
  },
  {
   "cell_type": "code",
   "execution_count": 4,
   "id": "f0dc1c30-01e9-46bc-87af-cdcbbe2253c8",
   "metadata": {},
   "outputs": [],
   "source": [
    "#!/usr/bin/python\n",
    "# -*- coding: utf-8 -*-"
   ]
  },
  {
   "cell_type": "code",
   "execution_count": 5,
   "id": "bac06359-b727-4721-9f41-cc38b9f68f1a",
   "metadata": {},
   "outputs": [],
   "source": [
    "from pyaxis import pyaxis\n",
    "import pandas as pd\n",
    "import sys"
   ]
  },
  {
   "cell_type": "code",
   "execution_count": 12,
   "id": "804e7295-0375-4565-9474-4811db76e5cc",
   "metadata": {},
   "outputs": [],
   "source": [
    "# load data from bfs\n",
    "URL = 'https://www.bfs.admin.ch/bfsstatic/dam/assets/12948000/master'"
   ]
  },
  {
   "cell_type": "code",
   "execution_count": 13,
   "id": "6611ef27-f6c0-43fc-b7ae-d7ac49fbaec6",
   "metadata": {},
   "outputs": [],
   "source": [
    "px = pyaxis.parse(URL, encoding='ISO-8859-2')"
   ]
  },
  {
   "cell_type": "code",
   "execution_count": 23,
   "id": "f88b52e4-5d57-4148-a36e-bebdec3625e0",
   "metadata": {},
   "outputs": [
    {
     "name": "stdout",
     "output_type": "stream",
     "text": [
      "(570024, 4)\n"
     ]
    },
    {
     "data": {
      "text/html": [
       "<div>\n",
       "<style scoped>\n",
       "    .dataframe tbody tr th:only-of-type {\n",
       "        vertical-align: middle;\n",
       "    }\n",
       "\n",
       "    .dataframe tbody tr th {\n",
       "        vertical-align: top;\n",
       "    }\n",
       "\n",
       "    .dataframe thead th {\n",
       "        text-align: right;\n",
       "    }\n",
       "</style>\n",
       "<table border=\"1\" class=\"dataframe\">\n",
       "  <thead>\n",
       "    <tr style=\"text-align: right;\">\n",
       "      <th></th>\n",
       "      <th>Kanton (-) / Bezirk (&gt;&gt;) / Gemeinde (......)</th>\n",
       "      <th>Jahr</th>\n",
       "      <th>Ergebnisse</th>\n",
       "      <th>DATA</th>\n",
       "    </tr>\n",
       "  </thead>\n",
       "  <tbody>\n",
       "    <tr>\n",
       "      <th>0</th>\n",
       "      <td>Schweiz</td>\n",
       "      <td>2019</td>\n",
       "      <td>Wahlberechtigte</td>\n",
       "      <td>5459218</td>\n",
       "    </tr>\n",
       "    <tr>\n",
       "      <th>1</th>\n",
       "      <td>Schweiz</td>\n",
       "      <td>2019</td>\n",
       "      <td>Wählende / Eingelegte Wahlzettel (WZ)</td>\n",
       "      <td>2462641</td>\n",
       "    </tr>\n",
       "    <tr>\n",
       "      <th>2</th>\n",
       "      <td>Schweiz</td>\n",
       "      <td>2019</td>\n",
       "      <td>Wahlbeteiligung [%]</td>\n",
       "      <td>45.1097758</td>\n",
       "    </tr>\n",
       "    <tr>\n",
       "      <th>3</th>\n",
       "      <td>Schweiz</td>\n",
       "      <td>2019</td>\n",
       "      <td>Leere WZ</td>\n",
       "      <td>9366</td>\n",
       "    </tr>\n",
       "    <tr>\n",
       "      <th>4</th>\n",
       "      <td>Schweiz</td>\n",
       "      <td>2019</td>\n",
       "      <td>Ungültige WZ</td>\n",
       "      <td>29015</td>\n",
       "    </tr>\n",
       "  </tbody>\n",
       "</table>\n",
       "</div>"
      ],
      "text/plain": [
       "  Kanton (-) / Bezirk (>>) / Gemeinde (......)  Jahr  \\\n",
       "0                                      Schweiz  2019   \n",
       "1                                      Schweiz  2019   \n",
       "2                                      Schweiz  2019   \n",
       "3                                      Schweiz  2019   \n",
       "4                                      Schweiz  2019   \n",
       "\n",
       "                              Ergebnisse        DATA  \n",
       "0                        Wahlberechtigte     5459218  \n",
       "1  Wählende / Eingelegte Wahlzettel (WZ)     2462641  \n",
       "2                    Wahlbeteiligung [%]  45.1097758  \n",
       "3                               Leere WZ        9366  \n",
       "4                           Ungültige WZ       29015  "
      ]
     },
     "execution_count": 23,
     "metadata": {},
     "output_type": "execute_result"
    }
   ],
   "source": [
    "df = px['DATA']\n",
    "print(df.shape)\n",
    "df.head()"
   ]
  },
  {
   "cell_type": "code",
   "execution_count": 24,
   "id": "15b79677-dac9-4e6d-ab2a-d29579a09d6f",
   "metadata": {},
   "outputs": [
    {
     "data": {
      "text/html": [
       "<div>\n",
       "<style scoped>\n",
       "    .dataframe tbody tr th:only-of-type {\n",
       "        vertical-align: middle;\n",
       "    }\n",
       "\n",
       "    .dataframe tbody tr th {\n",
       "        vertical-align: top;\n",
       "    }\n",
       "\n",
       "    .dataframe thead th {\n",
       "        text-align: right;\n",
       "    }\n",
       "</style>\n",
       "<table border=\"1\" class=\"dataframe\">\n",
       "  <thead>\n",
       "    <tr style=\"text-align: right;\">\n",
       "      <th></th>\n",
       "      <th>name_de</th>\n",
       "      <th>year</th>\n",
       "      <th>results</th>\n",
       "      <th>data</th>\n",
       "    </tr>\n",
       "  </thead>\n",
       "  <tbody>\n",
       "    <tr>\n",
       "      <th>0</th>\n",
       "      <td>Schweiz</td>\n",
       "      <td>2019</td>\n",
       "      <td>Wahlberechtigte</td>\n",
       "      <td>5459218</td>\n",
       "    </tr>\n",
       "    <tr>\n",
       "      <th>1</th>\n",
       "      <td>Schweiz</td>\n",
       "      <td>2019</td>\n",
       "      <td>Wählende / Eingelegte Wahlzettel (WZ)</td>\n",
       "      <td>2462641</td>\n",
       "    </tr>\n",
       "    <tr>\n",
       "      <th>2</th>\n",
       "      <td>Schweiz</td>\n",
       "      <td>2019</td>\n",
       "      <td>Wahlbeteiligung [%]</td>\n",
       "      <td>45.1097758</td>\n",
       "    </tr>\n",
       "    <tr>\n",
       "      <th>3</th>\n",
       "      <td>Schweiz</td>\n",
       "      <td>2019</td>\n",
       "      <td>Leere WZ</td>\n",
       "      <td>9366</td>\n",
       "    </tr>\n",
       "    <tr>\n",
       "      <th>4</th>\n",
       "      <td>Schweiz</td>\n",
       "      <td>2019</td>\n",
       "      <td>Ungültige WZ</td>\n",
       "      <td>29015</td>\n",
       "    </tr>\n",
       "  </tbody>\n",
       "</table>\n",
       "</div>"
      ],
      "text/plain": [
       "   name_de  year                                results        data\n",
       "0  Schweiz  2019                        Wahlberechtigte     5459218\n",
       "1  Schweiz  2019  Wählende / Eingelegte Wahlzettel (WZ)     2462641\n",
       "2  Schweiz  2019                    Wahlbeteiligung [%]  45.1097758\n",
       "3  Schweiz  2019                               Leere WZ        9366\n",
       "4  Schweiz  2019                           Ungültige WZ       29015"
      ]
     },
     "execution_count": 24,
     "metadata": {},
     "output_type": "execute_result"
    }
   ],
   "source": [
    "# rename 'Kanton (-) / Bezirk (>>) / Gemeinde (......)' to 'name_de'\n",
    "df = df.rename(columns={\n",
    "    'Kanton (-) / Bezirk (>>) / Gemeinde (......)': 'name_de', \n",
    "    'Jahr': 'year', \n",
    "    'Ergebnisse': 'results', \n",
    "    'DATA': 'data'\n",
    "})\n",
    "df.head()"
   ]
  },
  {
   "cell_type": "code",
   "execution_count": 27,
   "id": "602d4214-f083-450f-b8ea-6c093b96a839",
   "metadata": {},
   "outputs": [
    {
     "name": "stderr",
     "output_type": "stream",
     "text": [
      "/tmp/ipykernel_823/2170717606.py:1: FutureWarning: The default value of regex will change from True to False in a future version. In addition, single character regular expressions will *not* be treated as literal strings when regex=True.\n",
      "  df['name_de'] = df['name_de'].str.replace('.', '')\n"
     ]
    }
   ],
   "source": [
    "df['name_de'] = df['name_de'].str.replace('.', '')\n",
    "df['name_de'] = df['name_de'].str.replace('>> ', '')\n",
    "df['name_de'] = df['name_de'].str.replace('   ', '')"
   ]
  },
  {
   "cell_type": "code",
   "execution_count": 31,
   "id": "e12f49a0-c368-4afa-9e29-70fa13c84a6a",
   "metadata": {},
   "outputs": [
    {
     "data": {
      "text/plain": [
       "{'Gültige WZ',\n",
       " 'Kandidatenstimmen aus unveränderten WZ',\n",
       " 'Kandidatenstimmen aus veränderten WZ',\n",
       " 'Leere WZ',\n",
       " 'Listenstimmen aus unveränderten WZ',\n",
       " 'Listenstimmen aus veränderten WZ',\n",
       " 'Total Kandidatenstimmen',\n",
       " 'Total Listenstimmen',\n",
       " 'Total Zusatzstimmen',\n",
       " 'Ungültige WZ',\n",
       " 'Unveränderte WZ',\n",
       " 'Veränderte WZ',\n",
       " 'WZ ohne Listenbezeichnung',\n",
       " 'Wahlberechtigte',\n",
       " 'Wahlbeteiligung [%]',\n",
       " 'Wählende / Eingelegte Wahlzettel (WZ)',\n",
       " 'Zusatzstimmen aus unveränderten WZ',\n",
       " 'Zusatzstimmen aus veränderten WZ'}"
      ]
     },
     "execution_count": 31,
     "metadata": {},
     "output_type": "execute_result"
    }
   ],
   "source": [
    "set(df['results'])"
   ]
  },
  {
   "cell_type": "code",
   "execution_count": 33,
   "id": "80d5162e-228a-485b-ab73-7b7e9a944d69",
   "metadata": {},
   "outputs": [],
   "source": [
    "metadata= {}\n",
    "for col in ['name_de', 'results']:\n",
    "    conversion_dict = {}\n",
    "    options = set(df[col])\n",
    "    for i, option in enumerate(options):\n",
    "        conversion_dict[option] = i\n",
    "    df[col] = df[col].map(conversion_dict)\n",
    "    metadata[col] = conversion_dict"
   ]
  },
  {
   "cell_type": "code",
   "execution_count": 34,
   "id": "28327faa-49b6-42b2-aca4-1e8304fde1e8",
   "metadata": {},
   "outputs": [
    {
     "data": {
      "text/html": [
       "<div>\n",
       "<style scoped>\n",
       "    .dataframe tbody tr th:only-of-type {\n",
       "        vertical-align: middle;\n",
       "    }\n",
       "\n",
       "    .dataframe tbody tr th {\n",
       "        vertical-align: top;\n",
       "    }\n",
       "\n",
       "    .dataframe thead th {\n",
       "        text-align: right;\n",
       "    }\n",
       "</style>\n",
       "<table border=\"1\" class=\"dataframe\">\n",
       "  <thead>\n",
       "    <tr style=\"text-align: right;\">\n",
       "      <th></th>\n",
       "      <th>name_de</th>\n",
       "      <th>year</th>\n",
       "      <th>results</th>\n",
       "      <th>data</th>\n",
       "    </tr>\n",
       "  </thead>\n",
       "  <tbody>\n",
       "    <tr>\n",
       "      <th>0</th>\n",
       "      <td>459</td>\n",
       "      <td>2019</td>\n",
       "      <td>11</td>\n",
       "      <td>5459218</td>\n",
       "    </tr>\n",
       "    <tr>\n",
       "      <th>1</th>\n",
       "      <td>459</td>\n",
       "      <td>2019</td>\n",
       "      <td>13</td>\n",
       "      <td>2462641</td>\n",
       "    </tr>\n",
       "    <tr>\n",
       "      <th>2</th>\n",
       "      <td>459</td>\n",
       "      <td>2019</td>\n",
       "      <td>7</td>\n",
       "      <td>45.1097758</td>\n",
       "    </tr>\n",
       "    <tr>\n",
       "      <th>3</th>\n",
       "      <td>459</td>\n",
       "      <td>2019</td>\n",
       "      <td>8</td>\n",
       "      <td>9366</td>\n",
       "    </tr>\n",
       "    <tr>\n",
       "      <th>4</th>\n",
       "      <td>459</td>\n",
       "      <td>2019</td>\n",
       "      <td>14</td>\n",
       "      <td>29015</td>\n",
       "    </tr>\n",
       "  </tbody>\n",
       "</table>\n",
       "</div>"
      ],
      "text/plain": [
       "   name_de  year  results        data\n",
       "0      459  2019       11     5459218\n",
       "1      459  2019       13     2462641\n",
       "2      459  2019        7  45.1097758\n",
       "3      459  2019        8        9366\n",
       "4      459  2019       14       29015"
      ]
     },
     "execution_count": 34,
     "metadata": {},
     "output_type": "execute_result"
    }
   ],
   "source": [
    "df.head()"
   ]
  },
  {
   "cell_type": "code",
   "execution_count": 39,
   "id": "b3bfe3af-8e4d-430b-a8ef-28e386b4d54d",
   "metadata": {},
   "outputs": [],
   "source": [
    "# create new dataframe\n",
    "df = pd.DataFrame({\n",
    "    'indicator_id': 'TBD',\n",
    "    'spatialunit_id': df['name_de'],\n",
    "    'time_value': df['year'],\n",
    "    'time_info_id': 1,\n",
    "    'results': df['results'],\n",
    "    'value': df['data']\n",
    "})"
   ]
  },
  {
   "cell_type": "code",
   "execution_count": 40,
   "id": "5d32f7d4-d347-491d-a698-591e5aa0978c",
   "metadata": {},
   "outputs": [
    {
     "data": {
      "text/html": [
       "<div>\n",
       "<style scoped>\n",
       "    .dataframe tbody tr th:only-of-type {\n",
       "        vertical-align: middle;\n",
       "    }\n",
       "\n",
       "    .dataframe tbody tr th {\n",
       "        vertical-align: top;\n",
       "    }\n",
       "\n",
       "    .dataframe thead th {\n",
       "        text-align: right;\n",
       "    }\n",
       "</style>\n",
       "<table border=\"1\" class=\"dataframe\">\n",
       "  <thead>\n",
       "    <tr style=\"text-align: right;\">\n",
       "      <th></th>\n",
       "      <th>indicator_id</th>\n",
       "      <th>spatialunit_id</th>\n",
       "      <th>time_value</th>\n",
       "      <th>time_info_id</th>\n",
       "      <th>results</th>\n",
       "      <th>value</th>\n",
       "    </tr>\n",
       "  </thead>\n",
       "  <tbody>\n",
       "    <tr>\n",
       "      <th>0</th>\n",
       "      <td>TBD</td>\n",
       "      <td>459</td>\n",
       "      <td>2019</td>\n",
       "      <td>1</td>\n",
       "      <td>11</td>\n",
       "      <td>5459218</td>\n",
       "    </tr>\n",
       "    <tr>\n",
       "      <th>1</th>\n",
       "      <td>TBD</td>\n",
       "      <td>459</td>\n",
       "      <td>2019</td>\n",
       "      <td>1</td>\n",
       "      <td>13</td>\n",
       "      <td>2462641</td>\n",
       "    </tr>\n",
       "    <tr>\n",
       "      <th>2</th>\n",
       "      <td>TBD</td>\n",
       "      <td>459</td>\n",
       "      <td>2019</td>\n",
       "      <td>1</td>\n",
       "      <td>7</td>\n",
       "      <td>45.1097758</td>\n",
       "    </tr>\n",
       "    <tr>\n",
       "      <th>3</th>\n",
       "      <td>TBD</td>\n",
       "      <td>459</td>\n",
       "      <td>2019</td>\n",
       "      <td>1</td>\n",
       "      <td>8</td>\n",
       "      <td>9366</td>\n",
       "    </tr>\n",
       "    <tr>\n",
       "      <th>4</th>\n",
       "      <td>TBD</td>\n",
       "      <td>459</td>\n",
       "      <td>2019</td>\n",
       "      <td>1</td>\n",
       "      <td>14</td>\n",
       "      <td>29015</td>\n",
       "    </tr>\n",
       "  </tbody>\n",
       "</table>\n",
       "</div>"
      ],
      "text/plain": [
       "  indicator_id  spatialunit_id time_value  time_info_id  results       value\n",
       "0          TBD             459       2019             1       11     5459218\n",
       "1          TBD             459       2019             1       13     2462641\n",
       "2          TBD             459       2019             1        7  45.1097758\n",
       "3          TBD             459       2019             1        8        9366\n",
       "4          TBD             459       2019             1       14       29015"
      ]
     },
     "execution_count": 40,
     "metadata": {},
     "output_type": "execute_result"
    }
   ],
   "source": [
    "df.head()"
   ]
  },
  {
   "cell_type": "code",
   "execution_count": 19,
   "id": "3036ee7f-7739-44bd-8aff-cca79bb59051",
   "metadata": {},
   "outputs": [],
   "source": [
    "# export as csv\n",
    "df.to_csv('national_council_elections.csv', index=False, na_rep='NA')"
   ]
  },
  {
   "cell_type": "code",
   "execution_count": null,
   "id": "1cb16545-0dfb-438b-b5b1-b73194fb9d4c",
   "metadata": {},
   "outputs": [],
   "source": []
  }
 ],
 "metadata": {
  "kernelspec": {
   "display_name": "Python 3 (ipykernel)",
   "language": "python",
   "name": "python3"
  },
  "language_info": {
   "codemirror_mode": {
    "name": "ipython",
    "version": 3
   },
   "file_extension": ".py",
   "mimetype": "text/x-python",
   "name": "python",
   "nbconvert_exporter": "python",
   "pygments_lexer": "ipython3",
   "version": "3.9.6"
  }
 },
 "nbformat": 4,
 "nbformat_minor": 5
}
