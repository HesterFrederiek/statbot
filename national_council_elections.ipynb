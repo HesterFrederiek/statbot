{
 "cells": [
  {
   "cell_type": "markdown",
   "id": "f53c5810-c09b-4e29-b904-02085e80e298",
   "metadata": {},
   "source": [
    "# Nationalratswahlen"
   ]
  },
  {
   "cell_type": "code",
   "execution_count": 1,
   "id": "bac06359-b727-4721-9f41-cc38b9f68f1a",
   "metadata": {},
   "outputs": [],
   "source": [
    "import os\n",
    "from pyaxis import pyaxis\n",
    "import json\n",
    "import pandas as pd\n",
    "import sys"
   ]
  },
  {
   "cell_type": "code",
   "execution_count": 2,
   "id": "0ef711d7-bb39-47fb-bc82-324671cf9554",
   "metadata": {},
   "outputs": [],
   "source": [
    "from constants import INDICATOR_ID_MAPPING, URL_MAPPING, CSV_MAPPING, METADATA_MAPPING, SPATIAL_UNIT_ONTOLOGY, TIME_INFO_ID\n",
    "from utils import map_name_to_number"
   ]
  },
  {
   "cell_type": "code",
   "execution_count": 3,
   "id": "1fc1d56d-e35b-465a-86e2-1c779354bf5f",
   "metadata": {},
   "outputs": [],
   "source": [
    "dataset = 'national_council_elections'"
   ]
  },
  {
   "cell_type": "code",
   "execution_count": 4,
   "id": "6611ef27-f6c0-43fc-b7ae-d7ac49fbaec6",
   "metadata": {},
   "outputs": [],
   "source": [
    "# load data from bfs\n",
    "px = pyaxis.parse(URL_MAPPING[dataset], encoding='ISO-8859-2')\n",
    "df = px['DATA']"
   ]
  },
  {
   "cell_type": "code",
   "execution_count": 5,
   "id": "15b79677-dac9-4e6d-ab2a-d29579a09d6f",
   "metadata": {},
   "outputs": [],
   "source": [
    "# rename 'Kanton (-) / Bezirk (>>) / Gemeinde (......)' to 'name_de'\n",
    "df = df.rename(columns={\n",
    "    'Kanton (-) / Bezirk (>>) / Gemeinde (......)': 'name_de', \n",
    "    'Jahr': 'year', \n",
    "    'Ergebnisse': 'results', \n",
    "    'DATA': 'data'\n",
    "})"
   ]
  },
  {
   "cell_type": "code",
   "execution_count": 6,
   "id": "602d4214-f083-450f-b8ea-6c093b96a839",
   "metadata": {},
   "outputs": [
    {
     "name": "stderr",
     "output_type": "stream",
     "text": [
      "/tmp/ipykernel_744/2170717606.py:1: FutureWarning: The default value of regex will change from True to False in a future version. In addition, single character regular expressions will *not* be treated as literal strings when regex=True.\n",
      "  df['name_de'] = df['name_de'].str.replace('.', '')\n"
     ]
    }
   ],
   "source": [
    "df['name_de'] = df['name_de'].str.replace('.', '')\n",
    "df['name_de'] = df['name_de'].str.replace('>> ', '')\n",
    "df['name_de'] = df['name_de'].str.replace('   ', '')"
   ]
  },
  {
   "cell_type": "code",
   "execution_count": 7,
   "id": "d218e7ef-c02f-47c4-84e0-00ec383f1746",
   "metadata": {},
   "outputs": [
    {
     "data": {
      "text/html": [
       "<div>\n",
       "<style scoped>\n",
       "    .dataframe tbody tr th:only-of-type {\n",
       "        vertical-align: middle;\n",
       "    }\n",
       "\n",
       "    .dataframe tbody tr th {\n",
       "        vertical-align: top;\n",
       "    }\n",
       "\n",
       "    .dataframe thead th {\n",
       "        text-align: right;\n",
       "    }\n",
       "</style>\n",
       "<table border=\"1\" class=\"dataframe\">\n",
       "  <thead>\n",
       "    <tr style=\"text-align: right;\">\n",
       "      <th></th>\n",
       "      <th>name_de</th>\n",
       "      <th>year</th>\n",
       "      <th>results</th>\n",
       "      <th>data</th>\n",
       "    </tr>\n",
       "  </thead>\n",
       "  <tbody>\n",
       "    <tr>\n",
       "      <th>0</th>\n",
       "      <td>Schweiz</td>\n",
       "      <td>2019</td>\n",
       "      <td>Wahlberechtigte</td>\n",
       "      <td>5459218</td>\n",
       "    </tr>\n",
       "    <tr>\n",
       "      <th>1</th>\n",
       "      <td>Schweiz</td>\n",
       "      <td>2019</td>\n",
       "      <td>Wählende / Eingelegte Wahlzettel (WZ)</td>\n",
       "      <td>2462641</td>\n",
       "    </tr>\n",
       "    <tr>\n",
       "      <th>2</th>\n",
       "      <td>Schweiz</td>\n",
       "      <td>2019</td>\n",
       "      <td>Wahlbeteiligung [%]</td>\n",
       "      <td>45.1097758</td>\n",
       "    </tr>\n",
       "    <tr>\n",
       "      <th>3</th>\n",
       "      <td>Schweiz</td>\n",
       "      <td>2019</td>\n",
       "      <td>Leere WZ</td>\n",
       "      <td>9366</td>\n",
       "    </tr>\n",
       "    <tr>\n",
       "      <th>4</th>\n",
       "      <td>Schweiz</td>\n",
       "      <td>2019</td>\n",
       "      <td>Ungültige WZ</td>\n",
       "      <td>29015</td>\n",
       "    </tr>\n",
       "  </tbody>\n",
       "</table>\n",
       "</div>"
      ],
      "text/plain": [
       "   name_de  year                                results        data\n",
       "0  Schweiz  2019                        Wahlberechtigte     5459218\n",
       "1  Schweiz  2019  Wählende / Eingelegte Wahlzettel (WZ)     2462641\n",
       "2  Schweiz  2019                    Wahlbeteiligung [%]  45.1097758\n",
       "3  Schweiz  2019                               Leere WZ        9366\n",
       "4  Schweiz  2019                           Ungültige WZ       29015"
      ]
     },
     "execution_count": 7,
     "metadata": {},
     "output_type": "execute_result"
    }
   ],
   "source": [
    "df.head()"
   ]
  },
  {
   "cell_type": "code",
   "execution_count": 8,
   "id": "80d5162e-228a-485b-ab73-7b7e9a944d69",
   "metadata": {},
   "outputs": [],
   "source": [
    "df, metadata = map_name_to_number(df, columns_to_map=['results'])"
   ]
  },
  {
   "cell_type": "code",
   "execution_count": 15,
   "id": "51d38920-6b0f-46f9-bf9e-76857590dba5",
   "metadata": {},
   "outputs": [
    {
     "data": {
      "text/html": [
       "<div>\n",
       "<style scoped>\n",
       "    .dataframe tbody tr th:only-of-type {\n",
       "        vertical-align: middle;\n",
       "    }\n",
       "\n",
       "    .dataframe tbody tr th {\n",
       "        vertical-align: top;\n",
       "    }\n",
       "\n",
       "    .dataframe thead th {\n",
       "        text-align: right;\n",
       "    }\n",
       "</style>\n",
       "<table border=\"1\" class=\"dataframe\">\n",
       "  <thead>\n",
       "    <tr style=\"text-align: right;\">\n",
       "      <th></th>\n",
       "      <th>name_de</th>\n",
       "      <th>year</th>\n",
       "      <th>results</th>\n",
       "      <th>data</th>\n",
       "      <th>spatialunit_id</th>\n",
       "    </tr>\n",
       "  </thead>\n",
       "  <tbody>\n",
       "    <tr>\n",
       "      <th>0</th>\n",
       "      <td>Schweiz</td>\n",
       "      <td>2019</td>\n",
       "      <td>16</td>\n",
       "      <td>5459218</td>\n",
       "      <td>True</td>\n",
       "    </tr>\n",
       "    <tr>\n",
       "      <th>1</th>\n",
       "      <td>Schweiz</td>\n",
       "      <td>2019</td>\n",
       "      <td>0</td>\n",
       "      <td>2462641</td>\n",
       "      <td>True</td>\n",
       "    </tr>\n",
       "    <tr>\n",
       "      <th>2</th>\n",
       "      <td>Schweiz</td>\n",
       "      <td>2019</td>\n",
       "      <td>8</td>\n",
       "      <td>45.1097758</td>\n",
       "      <td>True</td>\n",
       "    </tr>\n",
       "    <tr>\n",
       "      <th>3</th>\n",
       "      <td>Schweiz</td>\n",
       "      <td>2019</td>\n",
       "      <td>1</td>\n",
       "      <td>9366</td>\n",
       "      <td>True</td>\n",
       "    </tr>\n",
       "    <tr>\n",
       "      <th>4</th>\n",
       "      <td>Schweiz</td>\n",
       "      <td>2019</td>\n",
       "      <td>12</td>\n",
       "      <td>29015</td>\n",
       "      <td>True</td>\n",
       "    </tr>\n",
       "  </tbody>\n",
       "</table>\n",
       "</div>"
      ],
      "text/plain": [
       "   name_de  year  results        data  spatialunit_id\n",
       "0  Schweiz  2019       16     5459218            True\n",
       "1  Schweiz  2019        0     2462641            True\n",
       "2  Schweiz  2019        8  45.1097758            True\n",
       "3  Schweiz  2019        1        9366            True\n",
       "4  Schweiz  2019       12       29015            True"
      ]
     },
     "execution_count": 15,
     "metadata": {},
     "output_type": "execute_result"
    }
   ],
   "source": [
    "df.head()"
   ]
  },
  {
   "cell_type": "code",
   "execution_count": 17,
   "id": "23818769-16e4-482a-a654-dce8f541a655",
   "metadata": {},
   "outputs": [
    {
     "data": {
      "text/plain": [
       "array(['Schweiz', 'Zürich', 'Bezirk Affoltern', ..., 'Clos du Doubs',\n",
       "       'Haute-Ajoie', 'La Baroche'], dtype=object)"
      ]
     },
     "execution_count": 17,
     "metadata": {},
     "output_type": "execute_result"
    }
   ],
   "source": [
    "df['name_de'].unique()"
   ]
  },
  {
   "cell_type": "code",
   "execution_count": 19,
   "id": "b3bfe3af-8e4d-430b-a8ef-28e386b4d54d",
   "metadata": {},
   "outputs": [],
   "source": [
    "# create new dataframe\n",
    "df_new = pd.DataFrame({\n",
    "    'indicator_id': INDICATOR_ID_MAPPING[dataset],\n",
    "    'spatialunit_name': df['name_de'],\n",
    "    'spatialunit_id': df['name_de'].apply(lambda x: SPATIAL_UNIT_ONTOLOGY['COUNTRY'] if x == 'Schweiz' else SPATIAL_UNIT_ONTOLOGY['DISTRICT']), # TODO\n",
    "    'time_value': df['year'],\n",
    "    'time_info_id': TIME_INFO_ID['YEAR'],\n",
    "    'results': df['results'],\n",
    "    'value': df['data']\n",
    "})"
   ]
  },
  {
   "cell_type": "code",
   "execution_count": 20,
   "id": "f3d2c849-6ed1-4e95-99d0-d6b89a1a1a3e",
   "metadata": {},
   "outputs": [
    {
     "data": {
      "text/html": [
       "<div>\n",
       "<style scoped>\n",
       "    .dataframe tbody tr th:only-of-type {\n",
       "        vertical-align: middle;\n",
       "    }\n",
       "\n",
       "    .dataframe tbody tr th {\n",
       "        vertical-align: top;\n",
       "    }\n",
       "\n",
       "    .dataframe thead th {\n",
       "        text-align: right;\n",
       "    }\n",
       "</style>\n",
       "<table border=\"1\" class=\"dataframe\">\n",
       "  <thead>\n",
       "    <tr style=\"text-align: right;\">\n",
       "      <th></th>\n",
       "      <th>indicator_id</th>\n",
       "      <th>spatialunit_name</th>\n",
       "      <th>spatialunit_id</th>\n",
       "      <th>time_value</th>\n",
       "      <th>time_info_id</th>\n",
       "      <th>results</th>\n",
       "      <th>value</th>\n",
       "    </tr>\n",
       "  </thead>\n",
       "  <tbody>\n",
       "    <tr>\n",
       "      <th>0</th>\n",
       "      <td>1_10_101</td>\n",
       "      <td>Schweiz</td>\n",
       "      <td>CH</td>\n",
       "      <td>2019</td>\n",
       "      <td>1</td>\n",
       "      <td>16</td>\n",
       "      <td>5459218</td>\n",
       "    </tr>\n",
       "    <tr>\n",
       "      <th>1</th>\n",
       "      <td>1_10_101</td>\n",
       "      <td>Schweiz</td>\n",
       "      <td>CH</td>\n",
       "      <td>2019</td>\n",
       "      <td>1</td>\n",
       "      <td>0</td>\n",
       "      <td>2462641</td>\n",
       "    </tr>\n",
       "    <tr>\n",
       "      <th>2</th>\n",
       "      <td>1_10_101</td>\n",
       "      <td>Schweiz</td>\n",
       "      <td>CH</td>\n",
       "      <td>2019</td>\n",
       "      <td>1</td>\n",
       "      <td>8</td>\n",
       "      <td>45.1097758</td>\n",
       "    </tr>\n",
       "    <tr>\n",
       "      <th>3</th>\n",
       "      <td>1_10_101</td>\n",
       "      <td>Schweiz</td>\n",
       "      <td>CH</td>\n",
       "      <td>2019</td>\n",
       "      <td>1</td>\n",
       "      <td>1</td>\n",
       "      <td>9366</td>\n",
       "    </tr>\n",
       "    <tr>\n",
       "      <th>4</th>\n",
       "      <td>1_10_101</td>\n",
       "      <td>Schweiz</td>\n",
       "      <td>CH</td>\n",
       "      <td>2019</td>\n",
       "      <td>1</td>\n",
       "      <td>12</td>\n",
       "      <td>29015</td>\n",
       "    </tr>\n",
       "  </tbody>\n",
       "</table>\n",
       "</div>"
      ],
      "text/plain": [
       "  indicator_id spatialunit_name spatialunit_id time_value  time_info_id  \\\n",
       "0     1_10_101          Schweiz             CH       2019             1   \n",
       "1     1_10_101          Schweiz             CH       2019             1   \n",
       "2     1_10_101          Schweiz             CH       2019             1   \n",
       "3     1_10_101          Schweiz             CH       2019             1   \n",
       "4     1_10_101          Schweiz             CH       2019             1   \n",
       "\n",
       "   results       value  \n",
       "0       16     5459218  \n",
       "1        0     2462641  \n",
       "2        8  45.1097758  \n",
       "3        1        9366  \n",
       "4       12       29015  "
      ]
     },
     "execution_count": 20,
     "metadata": {},
     "output_type": "execute_result"
    }
   ],
   "source": [
    "df_new.head()"
   ]
  },
  {
   "cell_type": "code",
   "execution_count": 26,
   "id": "3036ee7f-7739-44bd-8aff-cca79bb59051",
   "metadata": {},
   "outputs": [],
   "source": [
    "# export as csv\n",
    "df_new.to_csv(dataset + '.csv', index=False, na_rep='NA')"
   ]
  },
  {
   "cell_type": "code",
   "execution_count": 27,
   "id": "1cb16545-0dfb-438b-b5b1-b73194fb9d4c",
   "metadata": {},
   "outputs": [],
   "source": [
    "with open(dataset + '.json', 'w') as outfile:\n",
    "    json.dump(metadata, outfile)"
   ]
  },
  {
   "cell_type": "code",
   "execution_count": 23,
   "id": "089cbb63-6ee7-46d9-8465-b94f7200457c",
   "metadata": {},
   "outputs": [
    {
     "data": {
      "text/html": [
       "<div>\n",
       "<style scoped>\n",
       "    .dataframe tbody tr th:only-of-type {\n",
       "        vertical-align: middle;\n",
       "    }\n",
       "\n",
       "    .dataframe tbody tr th {\n",
       "        vertical-align: top;\n",
       "    }\n",
       "\n",
       "    .dataframe thead th {\n",
       "        text-align: right;\n",
       "    }\n",
       "</style>\n",
       "<table border=\"1\" class=\"dataframe\">\n",
       "  <thead>\n",
       "    <tr style=\"text-align: right;\">\n",
       "      <th></th>\n",
       "      <th>indicator_id</th>\n",
       "      <th>spatialunit_name</th>\n",
       "      <th>spatialunit_id</th>\n",
       "      <th>time_value</th>\n",
       "      <th>time_info_id</th>\n",
       "      <th>results</th>\n",
       "      <th>value</th>\n",
       "    </tr>\n",
       "  </thead>\n",
       "  <tbody>\n",
       "    <tr>\n",
       "      <th>0</th>\n",
       "      <td>1_10_101</td>\n",
       "      <td>Schweiz</td>\n",
       "      <td>CH</td>\n",
       "      <td>2019</td>\n",
       "      <td>1</td>\n",
       "      <td>16</td>\n",
       "      <td>5459218</td>\n",
       "    </tr>\n",
       "    <tr>\n",
       "      <th>1</th>\n",
       "      <td>1_10_101</td>\n",
       "      <td>Schweiz</td>\n",
       "      <td>CH</td>\n",
       "      <td>2019</td>\n",
       "      <td>1</td>\n",
       "      <td>0</td>\n",
       "      <td>2462641</td>\n",
       "    </tr>\n",
       "    <tr>\n",
       "      <th>2</th>\n",
       "      <td>1_10_101</td>\n",
       "      <td>Schweiz</td>\n",
       "      <td>CH</td>\n",
       "      <td>2019</td>\n",
       "      <td>1</td>\n",
       "      <td>8</td>\n",
       "      <td>45.1097758</td>\n",
       "    </tr>\n",
       "    <tr>\n",
       "      <th>3</th>\n",
       "      <td>1_10_101</td>\n",
       "      <td>Schweiz</td>\n",
       "      <td>CH</td>\n",
       "      <td>2019</td>\n",
       "      <td>1</td>\n",
       "      <td>1</td>\n",
       "      <td>9366</td>\n",
       "    </tr>\n",
       "    <tr>\n",
       "      <th>4</th>\n",
       "      <td>1_10_101</td>\n",
       "      <td>Schweiz</td>\n",
       "      <td>CH</td>\n",
       "      <td>2019</td>\n",
       "      <td>1</td>\n",
       "      <td>12</td>\n",
       "      <td>29015</td>\n",
       "    </tr>\n",
       "  </tbody>\n",
       "</table>\n",
       "</div>"
      ],
      "text/plain": [
       "  indicator_id spatialunit_name spatialunit_id time_value  time_info_id  \\\n",
       "0     1_10_101          Schweiz             CH       2019             1   \n",
       "1     1_10_101          Schweiz             CH       2019             1   \n",
       "2     1_10_101          Schweiz             CH       2019             1   \n",
       "3     1_10_101          Schweiz             CH       2019             1   \n",
       "4     1_10_101          Schweiz             CH       2019             1   \n",
       "\n",
       "   results       value  \n",
       "0       16     5459218  \n",
       "1        0     2462641  \n",
       "2        8  45.1097758  \n",
       "3        1        9366  \n",
       "4       12       29015  "
      ]
     },
     "execution_count": 23,
     "metadata": {},
     "output_type": "execute_result"
    }
   ],
   "source": [
    "df_new.head()"
   ]
  },
  {
   "cell_type": "code",
   "execution_count": 24,
   "id": "e207c4df-64e6-486e-aa59-3b2637f62cd6",
   "metadata": {},
   "outputs": [
    {
     "data": {
      "text/plain": [
       "{'results': {0: 'Wählende / Eingelegte Wahlzettel (WZ)',\n",
       "  1: 'Leere WZ',\n",
       "  2: 'Listenstimmen aus unveränderten WZ',\n",
       "  3: 'Kandidatenstimmen aus veränderten WZ',\n",
       "  4: 'Zusatzstimmen aus veränderten WZ',\n",
       "  5: 'WZ ohne Listenbezeichnung',\n",
       "  6: 'Listenstimmen aus veränderten WZ',\n",
       "  7: 'Total Listenstimmen',\n",
       "  8: 'Wahlbeteiligung [%]',\n",
       "  9: 'Gültige WZ',\n",
       "  10: 'Total Kandidatenstimmen',\n",
       "  11: 'Zusatzstimmen aus unveränderten WZ',\n",
       "  12: 'Ungültige WZ',\n",
       "  13: 'Veränderte WZ',\n",
       "  14: 'Total Zusatzstimmen',\n",
       "  15: 'Kandidatenstimmen aus unveränderten WZ',\n",
       "  16: 'Wahlberechtigte',\n",
       "  17: 'Unveränderte WZ'}}"
      ]
     },
     "execution_count": 24,
     "metadata": {},
     "output_type": "execute_result"
    }
   ],
   "source": [
    "metadata"
   ]
  },
  {
   "cell_type": "code",
   "execution_count": null,
   "id": "1ae4b24a-53ab-449f-8f16-307368e145ce",
   "metadata": {},
   "outputs": [],
   "source": []
  }
 ],
 "metadata": {
  "kernelspec": {
   "display_name": "Python 3 (ipykernel)",
   "language": "python",
   "name": "python3"
  },
  "language_info": {
   "codemirror_mode": {
    "name": "ipython",
    "version": 3
   },
   "file_extension": ".py",
   "mimetype": "text/x-python",
   "name": "python",
   "nbconvert_exporter": "python",
   "pygments_lexer": "ipython3",
   "version": "3.9.6"
  }
 },
 "nbformat": 4,
 "nbformat_minor": 5
}
