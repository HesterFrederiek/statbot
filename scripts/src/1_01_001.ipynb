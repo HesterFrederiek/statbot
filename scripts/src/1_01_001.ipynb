{
 "cells": [
  {
   "cell_type": "code",
   "execution_count": 1,
   "id": "e997675e-f137-48da-8554-7e2c73ba03cb",
   "metadata": {},
   "outputs": [],
   "source": [
    "import subprocess\n",
    "repo_dir = subprocess.Popen(['git', 'rev-parse', '--show-toplevel'], stdout=subprocess.PIPE).communicate()[0].rstrip().decode('utf-8')"
   ]
  },
  {
   "cell_type": "code",
   "execution_count": 25,
   "id": "cf2c65c9",
   "metadata": {},
   "outputs": [],
   "source": [
    "import sys \n",
    "sys.path.append(repo_dir) # go to parent dir from customFunctions import *\n",
    "import statbot_helpers as sbh\n",
    "from pyaxis import pyaxis\n",
    "import pandas as pd\n",
    "import numpy as np\n",
    "import os\n",
    "import requests"
   ]
  },
  {
   "cell_type": "code",
   "execution_count": 9,
   "id": "0753b45d-8aee-4864-983a-9c54bb116481",
   "metadata": {},
   "outputs": [
    {
     "data": {
      "text/plain": [
       "108324271"
      ]
     },
     "execution_count": 9,
     "metadata": {},
     "output_type": "execute_result"
    }
   ],
   "source": [
    "# bfs_nr of dataset\n",
    "BFS_NR = 'px-x-0102010000_101'\n",
    "\n",
    "STICHTAG =  '-12-31' # -%m-%d\n",
    "\n",
    "# get asset_nr\n",
    "asset_nr = sbh.get_bfs_asset_nr(BFS_NR)\n",
    "BFS_URL = \"https://www.bfs.admin.ch/bfsstatic/dam/assets/\" + str(asset_nr) + \"/master\"\n",
    "\n",
    "file_name=\"bfs_1_01_001_CH.px\"\n",
    "\n",
    "# download cube\n",
    "r = requests.get(BFS_URL)\n",
    "open(os.path.join(repo_dir,\"temp/\"+file_name), 'wb').write(r.content)\n",
    "\n"
   ]
  },
  {
   "cell_type": "code",
   "execution_count": 10,
   "id": "b6439695-3498-4196-ac49-81617c93843e",
   "metadata": {},
   "outputs": [],
   "source": [
    "# load data from bfs\n",
    "px = pyaxis.parse(os.path.join(repo_dir,\"temp/\"+file_name), encoding='ISO-8859-2')"
   ]
  },
  {
   "cell_type": "code",
   "execution_count": 11,
   "id": "61c4a4b7",
   "metadata": {},
   "outputs": [],
   "source": [
    "\n",
    "\n",
    "# clean df\n",
    "df = px['DATA'].loc[px['DATA']['Bevölkerungstyp'] == 'Ständige Wohnbevölkerung']\n",
    "df = df.drop(columns=['Bevölkerungstyp'])\n",
    "df = df.rename(columns={\"Kanton (-) / Bezirk (>>) / Gemeinde (......)\": \"name\"})\n",
    "\n",
    "\n",
    "# add column with spatialunit_ontology\n",
    "df.loc[df['name'].str.startswith(\"......\"), \"spatialunit_ontology\"] = \"A.ADM3\"\n",
    "#df.loc[df['name'].str.startswith(\">>\"), \"spatialunit_ontology\"] = \"A.ADM2\"\n",
    "#df.loc[df['name'].str.startswith(\"-\"), \"spatialunit_ontology\"] = \"A.ADM1\"\n",
    "#df.loc[df['name'].str.startswith(\"Schweiz\"), \"spatialunit_ontology\"] = \"CH\"\n",
    "\n",
    "df = df.dropna(subset=['spatialunit_ontology'])\n",
    "\n",
    "df['spatialunit_ontology'] = df['spatialunit_ontology'].astype('category') # reduce memory footprint\n",
    "\n",
    "\n",
    "# extract bfs_nr and name for gemeinde\n",
    "df.loc[df['spatialunit_ontology'] == 'A.ADM3', 'bfs_nr'] = df['name'].str.slice(6,11)\n",
    "df.loc[df['spatialunit_ontology'] == 'A.ADM3', 'name'] = df['name'].str.slice(11)\n",
    "\n",
    "df['bfs_nr'] = df['bfs_nr'].astype('int16')\n",
    "\n",
    "# extract name for bezirk\n",
    "#df.loc[df['spatialunit_ontology'] == 'A.ADM2', 'name'] = df['name'].str.slice(3)\n",
    "\n",
    "# extract name for kanton\n",
    "#df.loc[df['spatialunit_ontology'] == 'A.ADM1', 'name'] = df['name'].str.slice(2)\n",
    "\n",
    "# convert origin\n",
    "df.loc[df['Staatsangehörigkeit (Kategorie)'] == 'Staatsangehörigkeit (Kategorie) - Total', 'Staatsangehörigkeit (Kategorie)'] = '-1'\n",
    "df.loc[df['Staatsangehörigkeit (Kategorie)'] == 'Schweiz', 'Staatsangehörigkeit (Kategorie)'] = '1'\n",
    "df.loc[df['Staatsangehörigkeit (Kategorie)'] == 'Ausland', 'Staatsangehörigkeit (Kategorie)'] = '2'\n",
    "\n",
    "# convert sex\n",
    "df.loc[df['Geschlecht'] == 'Geschlecht - Total', 'Geschlecht'] = '-1'\n",
    "df.loc[df['Geschlecht'] == 'Mann', 'Geschlecht'] = '1'\n",
    "df.loc[df['Geschlecht'] == 'Frau', 'Geschlecht'] = '2'\n",
    "\n",
    "df['Geschlecht'] = df['Geschlecht'].astype('category') # reduce memory footprint\n",
    "\n",
    "\n",
    "# convert age\n",
    "df['Alter'] = df['Alter'].str.split(\" \", n=1, expand=True)[0]\n",
    "df.loc[df['Alter'] == 'Alter', 'Alter'] = '-1'\n",
    "\n",
    "df['DATA'] = df['DATA'].astype('int32')\n",
    "df['Alter'] = df['Alter'].astype('int16')\n",
    "\n",
    "maximum=max(df['Jahr'])\n",
    "df['Jahr'] += STICHTAG\n",
    "\n",
    "df['period_value'] = np.NAN\n",
    "\n",
    "df.columns = ['time_value', 'spatialunit_name', 'origin', 'sex', 'age', \n",
    "              'value', 'spatialunit_ontology', 'spatialunit_current_id', 'period_value']\n",
    "\n",
    "df = df[['spatialunit_ontology', 'spatialunit_name', \n",
    "         'time_value', 'period_value', 'value', 'origin', 'sex', 'age', 'spatialunit_current_id']]\n"
   ]
  },
  {
   "cell_type": "code",
   "execution_count": 12,
   "id": "cc983c33-810f-49b4-a89d-1455fafbe92b",
   "metadata": {},
   "outputs": [],
   "source": [
    "test = df.head(100000).copy()"
   ]
  },
  {
   "cell_type": "code",
   "execution_count": 15,
   "id": "48ef415b-5d51-4daa-a30f-f88f5d468714",
   "metadata": {},
   "outputs": [],
   "source": [
    "spatial_reference=str(maximum)+\"-10-18\""
   ]
  },
  {
   "cell_type": "code",
   "execution_count": 17,
   "id": "67b14207-6a42-482c-ad11-22a8c9ead5d2",
   "metadata": {},
   "outputs": [],
   "source": [
    "df_clean = sbh.convert_current_to_hist_id(test, spatial_reference,os.path.join(repo_dir,\"data/spatialunits.csv\"))"
   ]
  },
  {
   "cell_type": "code",
   "execution_count": 21,
   "id": "73af871c-c2b1-4790-a3e4-14f3dc383c3c",
   "metadata": {},
   "outputs": [
    {
     "data": {
      "text/html": [
       "<div>\n",
       "<style scoped>\n",
       "    .dataframe tbody tr th:only-of-type {\n",
       "        vertical-align: middle;\n",
       "    }\n",
       "\n",
       "    .dataframe tbody tr th {\n",
       "        vertical-align: top;\n",
       "    }\n",
       "\n",
       "    .dataframe thead th {\n",
       "        text-align: right;\n",
       "    }\n",
       "</style>\n",
       "<table border=\"1\" class=\"dataframe\">\n",
       "  <thead>\n",
       "    <tr style=\"text-align: right;\">\n",
       "      <th></th>\n",
       "      <th>spatialunit_ontology</th>\n",
       "      <th>spatialunit_name</th>\n",
       "      <th>time_value</th>\n",
       "      <th>period_value</th>\n",
       "      <th>value</th>\n",
       "      <th>origin</th>\n",
       "      <th>sex</th>\n",
       "      <th>age</th>\n",
       "      <th>spatialunit_current_id</th>\n",
       "      <th>spatialunit_hist_id</th>\n",
       "    </tr>\n",
       "  </thead>\n",
       "  <tbody>\n",
       "    <tr>\n",
       "      <th>0</th>\n",
       "      <td>A.ADM3</td>\n",
       "      <td>Aeugst am Albis</td>\n",
       "      <td>2010-12-31</td>\n",
       "      <td>NaN</td>\n",
       "      <td>1824</td>\n",
       "      <td>-1</td>\n",
       "      <td>-1</td>\n",
       "      <td>-1</td>\n",
       "      <td>1</td>\n",
       "      <td>13256</td>\n",
       "    </tr>\n",
       "    <tr>\n",
       "      <th>1</th>\n",
       "      <td>A.ADM3</td>\n",
       "      <td>Aeugst am Albis</td>\n",
       "      <td>2010-12-31</td>\n",
       "      <td>NaN</td>\n",
       "      <td>14</td>\n",
       "      <td>-1</td>\n",
       "      <td>-1</td>\n",
       "      <td>0</td>\n",
       "      <td>1</td>\n",
       "      <td>13256</td>\n",
       "    </tr>\n",
       "    <tr>\n",
       "      <th>2</th>\n",
       "      <td>A.ADM3</td>\n",
       "      <td>Aeugst am Albis</td>\n",
       "      <td>2010-12-31</td>\n",
       "      <td>NaN</td>\n",
       "      <td>18</td>\n",
       "      <td>-1</td>\n",
       "      <td>-1</td>\n",
       "      <td>1</td>\n",
       "      <td>1</td>\n",
       "      <td>13256</td>\n",
       "    </tr>\n",
       "    <tr>\n",
       "      <th>3</th>\n",
       "      <td>A.ADM3</td>\n",
       "      <td>Aeugst am Albis</td>\n",
       "      <td>2010-12-31</td>\n",
       "      <td>NaN</td>\n",
       "      <td>13</td>\n",
       "      <td>-1</td>\n",
       "      <td>-1</td>\n",
       "      <td>2</td>\n",
       "      <td>1</td>\n",
       "      <td>13256</td>\n",
       "    </tr>\n",
       "    <tr>\n",
       "      <th>4</th>\n",
       "      <td>A.ADM3</td>\n",
       "      <td>Aeugst am Albis</td>\n",
       "      <td>2010-12-31</td>\n",
       "      <td>NaN</td>\n",
       "      <td>20</td>\n",
       "      <td>-1</td>\n",
       "      <td>-1</td>\n",
       "      <td>3</td>\n",
       "      <td>1</td>\n",
       "      <td>13256</td>\n",
       "    </tr>\n",
       "    <tr>\n",
       "      <th>...</th>\n",
       "      <td>...</td>\n",
       "      <td>...</td>\n",
       "      <td>...</td>\n",
       "      <td>...</td>\n",
       "      <td>...</td>\n",
       "      <td>...</td>\n",
       "      <td>...</td>\n",
       "      <td>...</td>\n",
       "      <td>...</td>\n",
       "      <td>...</td>\n",
       "    </tr>\n",
       "    <tr>\n",
       "      <th>99995</th>\n",
       "      <td>A.ADM3</td>\n",
       "      <td>Uetikon am See</td>\n",
       "      <td>2010-12-31</td>\n",
       "      <td>NaN</td>\n",
       "      <td>12</td>\n",
       "      <td>2</td>\n",
       "      <td>2</td>\n",
       "      <td>34</td>\n",
       "      <td>159</td>\n",
       "      <td>13259</td>\n",
       "    </tr>\n",
       "    <tr>\n",
       "      <th>99996</th>\n",
       "      <td>A.ADM3</td>\n",
       "      <td>Uetikon am See</td>\n",
       "      <td>2010-12-31</td>\n",
       "      <td>NaN</td>\n",
       "      <td>16</td>\n",
       "      <td>2</td>\n",
       "      <td>2</td>\n",
       "      <td>35</td>\n",
       "      <td>159</td>\n",
       "      <td>13259</td>\n",
       "    </tr>\n",
       "    <tr>\n",
       "      <th>99997</th>\n",
       "      <td>A.ADM3</td>\n",
       "      <td>Uetikon am See</td>\n",
       "      <td>2010-12-31</td>\n",
       "      <td>NaN</td>\n",
       "      <td>8</td>\n",
       "      <td>2</td>\n",
       "      <td>2</td>\n",
       "      <td>36</td>\n",
       "      <td>159</td>\n",
       "      <td>13259</td>\n",
       "    </tr>\n",
       "    <tr>\n",
       "      <th>99998</th>\n",
       "      <td>A.ADM3</td>\n",
       "      <td>Uetikon am See</td>\n",
       "      <td>2010-12-31</td>\n",
       "      <td>NaN</td>\n",
       "      <td>13</td>\n",
       "      <td>2</td>\n",
       "      <td>2</td>\n",
       "      <td>37</td>\n",
       "      <td>159</td>\n",
       "      <td>13259</td>\n",
       "    </tr>\n",
       "    <tr>\n",
       "      <th>99999</th>\n",
       "      <td>A.ADM3</td>\n",
       "      <td>Uetikon am See</td>\n",
       "      <td>2010-12-31</td>\n",
       "      <td>NaN</td>\n",
       "      <td>17</td>\n",
       "      <td>2</td>\n",
       "      <td>2</td>\n",
       "      <td>38</td>\n",
       "      <td>159</td>\n",
       "      <td>13259</td>\n",
       "    </tr>\n",
       "  </tbody>\n",
       "</table>\n",
       "<p>100000 rows × 10 columns</p>\n",
       "</div>"
      ],
      "text/plain": [
       "      spatialunit_ontology spatialunit_name  time_value  period_value  value  \\\n",
       "0                   A.ADM3  Aeugst am Albis  2010-12-31           NaN   1824   \n",
       "1                   A.ADM3  Aeugst am Albis  2010-12-31           NaN     14   \n",
       "2                   A.ADM3  Aeugst am Albis  2010-12-31           NaN     18   \n",
       "3                   A.ADM3  Aeugst am Albis  2010-12-31           NaN     13   \n",
       "4                   A.ADM3  Aeugst am Albis  2010-12-31           NaN     20   \n",
       "...                    ...              ...         ...           ...    ...   \n",
       "99995               A.ADM3   Uetikon am See  2010-12-31           NaN     12   \n",
       "99996               A.ADM3   Uetikon am See  2010-12-31           NaN     16   \n",
       "99997               A.ADM3   Uetikon am See  2010-12-31           NaN      8   \n",
       "99998               A.ADM3   Uetikon am See  2010-12-31           NaN     13   \n",
       "99999               A.ADM3   Uetikon am See  2010-12-31           NaN     17   \n",
       "\n",
       "      origin sex  age  spatialunit_current_id  spatialunit_hist_id  \n",
       "0         -1  -1   -1                       1                13256  \n",
       "1         -1  -1    0                       1                13256  \n",
       "2         -1  -1    1                       1                13256  \n",
       "3         -1  -1    2                       1                13256  \n",
       "4         -1  -1    3                       1                13256  \n",
       "...      ...  ..  ...                     ...                  ...  \n",
       "99995      2   2   34                     159                13259  \n",
       "99996      2   2   35                     159                13259  \n",
       "99997      2   2   36                     159                13259  \n",
       "99998      2   2   37                     159                13259  \n",
       "99999      2   2   38                     159                13259  \n",
       "\n",
       "[100000 rows x 10 columns]"
      ]
     },
     "execution_count": 21,
     "metadata": {},
     "output_type": "execute_result"
    }
   ],
   "source": [
    "df_try = df_clean\n",
    "df_try"
   ]
  },
  {
   "cell_type": "code",
   "execution_count": 22,
   "id": "b7c891af-1c92-4b04-86e1-5e976418cb31",
   "metadata": {},
   "outputs": [
    {
     "data": {
      "text/plain": [
       "(100000, 9)"
      ]
     },
     "execution_count": 22,
     "metadata": {},
     "output_type": "execute_result"
    }
   ],
   "source": [
    "test.shape"
   ]
  },
  {
   "cell_type": "code",
   "execution_count": 23,
   "id": "5d1ba2bb-a8e1-4093-adb4-05b13bbf9077",
   "metadata": {},
   "outputs": [
    {
     "data": {
      "text/plain": [
       "(100000, 10)"
      ]
     },
     "execution_count": 23,
     "metadata": {},
     "output_type": "execute_result"
    }
   ],
   "source": [
    "df_try.shape"
   ]
  },
  {
   "cell_type": "code",
   "execution_count": 24,
   "id": "d1f3aa53-6ad2-456b-bd53-6646ff712496",
   "metadata": {},
   "outputs": [
    {
     "data": {
      "text/plain": [
       "0"
      ]
     },
     "execution_count": 24,
     "metadata": {},
     "output_type": "execute_result"
    }
   ],
   "source": [
    "df_try['spatialunit_hist_id'].isnull().sum()"
   ]
  },
  {
   "cell_type": "code",
   "execution_count": null,
   "id": "228ea659",
   "metadata": {},
   "outputs": [],
   "source": [
    "# def add_granularity_levels_up(df,list_ontologies):\n",
    "\n",
    "list_ontologies = ['A.ADM2', 'A.ADM1', 'CH']\n",
    "\n",
    "spatial_unit_table = pd.read_csv(os.path.join(repo_dir,\"data/spatialunits.csv\"), \n",
    "                                 usecols=[\"spatialunit_ontology\",\"spatialunit_hist_id\",\"canton_hist_id\",\"district_hist_id\"])\n",
    "\n",
    "spatial_unit_table[['canton_hist_id', 'district_hist_id']] = spatial_unit_table[['canton_hist_id', 'district_hist_id']].astype('Int64')\n",
    "\n",
    "\n",
    "df_try_out = df_try.copy()\n",
    "\n",
    "df_try = df_try[df_try['spatialunit_ontology'] == 'A.ADM3']\n",
    "\n",
    "df_try = pd.merge(df_try, spatial_unit_table, how='left', on=['spatialunit_ontology', 'spatialunit_hist_id'])\n",
    "\n",
    "\n",
    "if 'A.ADM2' in list_ontologies:\n",
    "    list_to_group = [\"district_hist_id\",\"time_value\"]\n",
    "    adm2 = df_try.groupby(by=list_to_group)['value'].sum()\n",
    "\n"
   ]
  }
 ],
 "metadata": {
  "kernelspec": {
   "display_name": "Python 3 (ipykernel)",
   "language": "python",
   "name": "python3"
  },
  "language_info": {
   "codemirror_mode": {
    "name": "ipython",
    "version": 3
   },
   "file_extension": ".py",
   "mimetype": "text/x-python",
   "name": "python",
   "nbconvert_exporter": "python",
   "pygments_lexer": "ipython3",
   "version": "3.9.1"
  }
 },
 "nbformat": 4,
 "nbformat_minor": 5
}
