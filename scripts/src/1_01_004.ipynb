{
 "cells": [
  {
   "cell_type": "code",
   "execution_count": null,
   "id": "e997675e-f137-48da-8554-7e2c73ba03cb",
   "metadata": {},
   "outputs": [],
   "source": [
    "import subprocess\n",
    "repo_dir = subprocess.Popen(['git', 'rev-parse', '--show-toplevel'], stdout=subprocess.PIPE).communicate()[0].rstrip().decode('utf-8')"
   ]
  },
  {
   "cell_type": "code",
   "execution_count": null,
   "id": "cf2c65c9",
   "metadata": {},
   "outputs": [],
   "source": [
    "import sys \n",
    "sys.path.append(repo_dir) # go to parent dir from customFunctions import *\n",
    "import statbot_helpers as sbh\n",
    "from pyaxis import pyaxis\n",
    "import pandas as pd\n",
    "import numpy as np\n",
    "import os\n",
    "import requests\n",
    "import json"
   ]
  },
  {
   "cell_type": "code",
   "execution_count": null,
   "id": "f3f4a943-4871-4b84-8b0c-a88fd909bf43",
   "metadata": {},
   "outputs": [],
   "source": [
    "# bfs_nr of dataset\n",
    "BFS_NR = 'px-x-0102020204_102'\n",
    "\n",
    "STICHTAG =  '-12-31' # -%m-%d\n",
    "\n",
    "# get asset_nr\n",
    "asset_nr = sbh.get_bfs_asset_nr(BFS_NR)\n",
    "BFS_URL = \"https://www.bfs.admin.ch/bfsstatic/dam/assets/\" + str(asset_nr) + \"/master\"\n",
    "\n",
    "file_name=\"bfs_1_01_001_CH.px\"\n",
    "\n",
    "# download cube\n",
    "r = requests.get(BFS_URL)\n",
    "open(os.path.join(repo_dir,\"temp/\"+file_name), 'wb').write(r.content)"
   ]
  },
  {
   "cell_type": "code",
   "execution_count": null,
   "id": "b6439695-3498-4196-ac49-81617c93843e",
   "metadata": {},
   "outputs": [],
   "source": [
    "# load data from bfs\n",
    "px = pyaxis.parse(os.path.join(repo_dir,\"temp/\"+file_name), encoding='ISO-8859-2')"
   ]
  },
  {
   "cell_type": "code",
   "execution_count": null,
   "id": "2a385553-698f-4185-9eca-8f1453837a8c",
   "metadata": {},
   "outputs": [],
   "source": [
    "px['DATA']"
   ]
  },
  {
   "cell_type": "code",
   "execution_count": null,
   "id": "61c4a4b7",
   "metadata": {},
   "outputs": [],
   "source": [
    "# clean df\n",
    "df = px['DATA']#.loc[px['DATA']\n",
    "df = df.rename(columns={\"Kanton (-) / Bezirk (>>) / Gemeinde (......)\": \"name\"})\n",
    "\n",
    "\n",
    "# add column with spatialunit_ontology\n",
    "df.loc[df['name'].str.startswith(\"......\"), \"spatialunit_ontology\"] = \"A.ADM3\"\n",
    "#df.loc[df['name'].str.startswith(\">>\"), \"spatialunit_ontology\"] = \"A.ADM2\"\n",
    "#df.loc[df['name'].str.startswith(\"-\"), \"spatialunit_ontology\"] = \"A.ADM1\"\n",
    "#df.loc[df['name'].str.startswith(\"Schweiz\"), \"spatialunit_ontology\"] = \"CH\"\n",
    "\n",
    "df = df.dropna(subset=['spatialunit_ontology'])\n",
    "\n",
    "df['spatialunit_ontology'] = df['spatialunit_ontology'].astype('category') # reduce memory footprint\n",
    "\n",
    "\n",
    "# extract bfs_nr and name for gemeinde\n",
    "df.loc[df['spatialunit_ontology'] == 'A.ADM3', 'bfs_nr'] = df['name'].str.slice(6,11)\n",
    "df.loc[df['spatialunit_ontology'] == 'A.ADM3', 'name'] = df['name'].str.slice(11)\n",
    "\n",
    "df['bfs_nr'] = df['bfs_nr'].astype('int16')\n",
    "\n",
    "                    \n",
    "                    \n",
    "# extract name for bezirk\n",
    "#df.loc[df['spatialunit_ontology'] == 'A.ADM2', 'name'] = df['name'].str.slice(3)\n",
    "\n",
    "# extract name for kanton\n",
    "#df.loc[df['spatialunit_ontology'] == 'A.ADM1', 'name'] = df['name'].str.slice(2)\n",
    "\n",
    "# convert origin\n",
    "df.loc[df['Staatsangehörigkeit (Kategorie) des Kindes'] == 'Staatsangehörigkeit des Kindes - Total', 'Staatsangehörigkeit (Kategorie) des Kindes'] = '-1'\n",
    "df.loc[df['Staatsangehörigkeit (Kategorie) des Kindes'] == 'Schweiz', 'Staatsangehörigkeit (Kategorie) des Kindes'] = '1'\n",
    "df.loc[df['Staatsangehörigkeit (Kategorie) des Kindes'] == 'Ausland', 'Staatsangehörigkeit (Kategorie) des Kindes'] = '2'\n",
    "\n",
    "# convert sex\n",
    "df.loc[df['Geschlecht des Kindes'] == 'Geschlecht des Kindes - Total', 'Geschlecht des Kindes'] = '-1'\n",
    "df.loc[df['Geschlecht des Kindes'] == 'Knabe', 'Geschlecht des Kindes'] = '1'\n",
    "df.loc[df['Geschlecht des Kindes'] == 'Mädchen', 'Geschlecht des Kindes'] = '2'\n",
    "\n",
    "df['Geschlecht des Kindes'] = df['Geschlecht des Kindes'].astype('category') # reduce memory footprint\n",
    "\n",
    "\n",
    "# convert age   \n",
    "df['Altersklasse der Mutter'] = df['Altersklasse der Mutter'].str.split(\" \", n=1, expand=True)[0]                    \n",
    "df.loc[df['Altersklasse der Mutter'] == 'Altersklasse', 'Altersklasse der Mutter'] = '-1'\n",
    "df.loc[df['Altersklasse der Mutter'] == 'Unter', 'Altersklasse der Mutter'] = '1'\n",
    "df.loc[df['Altersklasse der Mutter'] == '25-29', 'Altersklasse der Mutter'] = '2'\n",
    "df.loc[df['Altersklasse der Mutter'] == '30-34', 'Altersklasse der Mutter'] = '3'\n",
    "df.loc[df['Altersklasse der Mutter'] == '35-39', 'Altersklasse der Mutter'] = '4'\n",
    "df.loc[df['Altersklasse der Mutter'] == '40', 'Altersklasse der Mutter'] = '5'\n",
    "\n",
    "\n",
    "\n",
    "df['DATA'] = df['DATA'].astype('int32')\n",
    "df['Altersklasse der Mutter'] = df['Altersklasse der Mutter'].astype('int32')\n",
    "\n",
    "maximum=max(df['Jahr'])\n",
    "df['Jahr'] += STICHTAG\n",
    "\n",
    "df['period_value'] = np.NAN\n",
    "\n",
    "\n",
    "df.columns = ['time_value', 'spatialunit_name', 'gender', 'origin', 'age_classes_of_mother', \n",
    "              'value', 'spatialunit_ontology', 'spatialunit_current_id', 'period_value']\n",
    "\n",
    "df = df[['spatialunit_ontology', 'spatialunit_name', \n",
    "         'time_value', 'period_value', 'value', 'origin', 'gender', 'age_classes_of_mother', 'spatialunit_current_id']]\n",
    "\n",
    "\n",
    "df"
   ]
  },
  {
   "cell_type": "code",
   "execution_count": null,
   "id": "a55239bc-19af-4ada-994e-315481801e6f",
   "metadata": {},
   "outputs": [],
   "source": [
    "df['spatialunit_current_id'].isnull().sum()"
   ]
  },
  {
   "cell_type": "code",
   "execution_count": null,
   "id": "9e7e4314-1a0b-4342-b6fb-f97743c00edb",
   "metadata": {},
   "outputs": [],
   "source": [
    "spatial_reference=str(maximum)+\"-10-18\"\n",
    "#spatial_reference\n",
    "\n",
    "df_clean = sbh.convert_current_to_hist_id(df, spatial_reference, os.path.join(repo_dir,\"data/spatialunits.csv\"))\n",
    "\n",
    "df_try = df_clean.copy()\n",
    "\n",
    "#print(df_try.shape)\n",
    "\n",
    "#print(df_try['spatialunit_hist_id'].isnull().sum())\n",
    "\n",
    "list_ontologies = ['A.ADM2', 'A.ADM1', 'CH']\n",
    "\n",
    "list_dimensions = ['origin', 'gender', 'age_classes_of_mother']\n",
    "\n",
    "#df_adm2 = sbh.add_granularity_levels_up(df_try,list_ontologies, repo_dir, list_dimensions)\n",
    "\n",
    "df_new = sbh.add_granularity_levels_up(df_try, list_ontologies, repo_dir, list_dimensions)\n",
    "df_new"
   ]
  },
  {
   "cell_type": "code",
   "execution_count": null,
   "id": "fee2d557-f59c-4767-b921-bda6d011669e",
   "metadata": {},
   "outputs": [],
   "source": [
    "df_new['age_classes_of_mother'].isnull().sum()"
   ]
  },
  {
   "cell_type": "code",
   "execution_count": null,
   "id": "4f139484-1663-4085-9b63-8220c21d79d9",
   "metadata": {},
   "outputs": [],
   "source": [
    "df_new[df_new['spatialunit_name'].isnull()]['spatialunit_hist_id'].unique()"
   ]
  },
  {
   "cell_type": "code",
   "execution_count": null,
   "id": "81f642a3-5f4a-4002-96b6-2362677fb43d",
   "metadata": {},
   "outputs": [],
   "source": []
  },
  {
   "cell_type": "code",
   "execution_count": null,
   "id": "92e6d4ab-492c-48fe-ae7d-87f9aed49714",
   "metadata": {},
   "outputs": [],
   "source": [
    "df_new.to_csv(os.path.join(repo_dir,\"data/11_11004.csv\"), index=False, na_rep='NA')\n",
    "\n",
    "sys.exit(0)\n"
   ]
  },
  {
   "cell_type": "code",
   "execution_count": null,
   "id": "4011c807-2cee-44d8-985a-f93dea501d14",
   "metadata": {},
   "outputs": [],
   "source": []
  }
 ],
 "metadata": {
  "kernelspec": {
   "display_name": "statbot_env",
   "language": "python",
   "name": "statbot_env"
  },
  "language_info": {
   "codemirror_mode": {
    "name": "ipython",
    "version": 3
   },
   "file_extension": ".py",
   "mimetype": "text/x-python",
   "name": "python",
   "nbconvert_exporter": "python",
   "pygments_lexer": "ipython3",
   "version": "3.9.5"
  }
 },
 "nbformat": 4,
 "nbformat_minor": 5
}
